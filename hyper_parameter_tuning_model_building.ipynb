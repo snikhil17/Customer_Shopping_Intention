{
 "cells": [
  {
   "cell_type": "markdown",
   "metadata": {
    "id": "QhyxDSkaBr6h"
   },
   "source": [
    "## **Importing Libraries**"
   ]
  },
  {
   "cell_type": "code",
   "execution_count": 3,
   "metadata": {
    "id": "kTG6HGsAV1HZ"
   },
   "outputs": [],
   "source": [
    "import pandas as pd\n",
    "import numpy as np\n",
    "import seaborn as sns\n",
    "import matplotlib.pyplot as plt\n",
    "from sklearn import preprocessing\n",
    "from sklearn.model_selection import train_test_split\n",
    "from sklearn.ensemble import  BaggingClassifier\n",
    "from sklearn.neural_network import MLPClassifier\n",
    "from sklearn.tree import DecisionTreeClassifier\n",
    "from sklearn import metrics\n",
    "from sklearn.feature_extraction import DictVectorizer\n",
    "import warnings\n",
    "warnings.filterwarnings('ignore')\n",
    "from sklearn.preprocessing import PowerTransformer\n",
    "import optuna\n",
    "from lightgbm import LGBMClassifier\n",
    "from sklearn.ensemble import VotingClassifier\n",
    "import pickle"
   ]
  },
  {
   "cell_type": "code",
   "execution_count": 5,
   "metadata": {},
   "outputs": [],
   "source": [
    "!pip3 freeze > requirements.txt"
   ]
  },
  {
   "cell_type": "markdown",
   "metadata": {
    "id": "vgmkkEDDBvGW"
   },
   "source": [
    "## **Loading Data**"
   ]
  },
  {
   "cell_type": "code",
   "execution_count": null,
   "metadata": {
    "colab": {
     "base_uri": "https://localhost:8080/"
    },
    "id": "yY4HSd2zWvJs",
    "outputId": "8e8cdd78-1394-4816-fdab-0833b3a13421"
   },
   "outputs": [
    {
     "data": {
      "text/plain": [
       "((9864, 19), (2466, 18))"
      ]
     },
     "execution_count": 99,
     "metadata": {},
     "output_type": "execute_result"
    }
   ],
   "source": [
    "df = pd.read_csv('/content/training_data_skf_no_smote.csv')\n",
    "df.shape, testing_data.shape"
   ]
  },
  {
   "cell_type": "code",
   "execution_count": null,
   "metadata": {
    "colab": {
     "base_uri": "https://localhost:8080/",
     "height": 226
    },
    "id": "OEbov1TwW3SD",
    "outputId": "fa2f7897-4af0-45e5-c3c0-34f8a6f78828"
   },
   "outputs": [
    {
     "data": {
      "text/html": [
       "<div>\n",
       "<style scoped>\n",
       "    .dataframe tbody tr th:only-of-type {\n",
       "        vertical-align: middle;\n",
       "    }\n",
       "\n",
       "    .dataframe tbody tr th {\n",
       "        vertical-align: top;\n",
       "    }\n",
       "\n",
       "    .dataframe thead th {\n",
       "        text-align: right;\n",
       "    }\n",
       "</style>\n",
       "<table border=\"1\" class=\"dataframe\">\n",
       "  <thead>\n",
       "    <tr style=\"text-align: right;\">\n",
       "      <th></th>\n",
       "      <th>Administrative</th>\n",
       "      <th>Administrative_Duration</th>\n",
       "      <th>Informational</th>\n",
       "      <th>Informational_Duration</th>\n",
       "      <th>ProductRelated</th>\n",
       "      <th>ProductRelated_Duration</th>\n",
       "      <th>BounceRates</th>\n",
       "      <th>ExitRates</th>\n",
       "      <th>PageValues</th>\n",
       "      <th>SpecialDay</th>\n",
       "      <th>Month</th>\n",
       "      <th>OperatingSystems</th>\n",
       "      <th>Browser</th>\n",
       "      <th>Region</th>\n",
       "      <th>TrafficType</th>\n",
       "      <th>VisitorType</th>\n",
       "      <th>Weekend</th>\n",
       "      <th>Revenue</th>\n",
       "      <th>kfold</th>\n",
       "    </tr>\n",
       "  </thead>\n",
       "  <tbody>\n",
       "    <tr>\n",
       "      <th>0</th>\n",
       "      <td>0</td>\n",
       "      <td>0.00</td>\n",
       "      <td>0</td>\n",
       "      <td>0.0</td>\n",
       "      <td>12</td>\n",
       "      <td>354.000000</td>\n",
       "      <td>0.000000</td>\n",
       "      <td>0.018182</td>\n",
       "      <td>0.0</td>\n",
       "      <td>0.0</td>\n",
       "      <td>May</td>\n",
       "      <td>2</td>\n",
       "      <td>7</td>\n",
       "      <td>1</td>\n",
       "      <td>2</td>\n",
       "      <td>New_Visitor</td>\n",
       "      <td>True</td>\n",
       "      <td>0</td>\n",
       "      <td>4</td>\n",
       "    </tr>\n",
       "    <tr>\n",
       "      <th>1</th>\n",
       "      <td>0</td>\n",
       "      <td>0.00</td>\n",
       "      <td>0</td>\n",
       "      <td>0.0</td>\n",
       "      <td>8</td>\n",
       "      <td>764.666667</td>\n",
       "      <td>0.025000</td>\n",
       "      <td>0.043750</td>\n",
       "      <td>0.0</td>\n",
       "      <td>0.0</td>\n",
       "      <td>Nov</td>\n",
       "      <td>3</td>\n",
       "      <td>2</td>\n",
       "      <td>4</td>\n",
       "      <td>10</td>\n",
       "      <td>Returning_Visitor</td>\n",
       "      <td>False</td>\n",
       "      <td>0</td>\n",
       "      <td>2</td>\n",
       "    </tr>\n",
       "    <tr>\n",
       "      <th>2</th>\n",
       "      <td>3</td>\n",
       "      <td>157.40</td>\n",
       "      <td>0</td>\n",
       "      <td>0.0</td>\n",
       "      <td>9</td>\n",
       "      <td>128.500000</td>\n",
       "      <td>0.036364</td>\n",
       "      <td>0.081818</td>\n",
       "      <td>0.0</td>\n",
       "      <td>0.0</td>\n",
       "      <td>Jul</td>\n",
       "      <td>3</td>\n",
       "      <td>2</td>\n",
       "      <td>1</td>\n",
       "      <td>3</td>\n",
       "      <td>Returning_Visitor</td>\n",
       "      <td>True</td>\n",
       "      <td>0</td>\n",
       "      <td>4</td>\n",
       "    </tr>\n",
       "    <tr>\n",
       "      <th>3</th>\n",
       "      <td>3</td>\n",
       "      <td>120.00</td>\n",
       "      <td>0</td>\n",
       "      <td>0.0</td>\n",
       "      <td>5</td>\n",
       "      <td>198.000000</td>\n",
       "      <td>0.000000</td>\n",
       "      <td>0.014286</td>\n",
       "      <td>0.0</td>\n",
       "      <td>0.0</td>\n",
       "      <td>May</td>\n",
       "      <td>3</td>\n",
       "      <td>3</td>\n",
       "      <td>4</td>\n",
       "      <td>2</td>\n",
       "      <td>New_Visitor</td>\n",
       "      <td>True</td>\n",
       "      <td>0</td>\n",
       "      <td>2</td>\n",
       "    </tr>\n",
       "    <tr>\n",
       "      <th>4</th>\n",
       "      <td>4</td>\n",
       "      <td>37.25</td>\n",
       "      <td>1</td>\n",
       "      <td>5.0</td>\n",
       "      <td>50</td>\n",
       "      <td>1295.008333</td>\n",
       "      <td>0.000893</td>\n",
       "      <td>0.015595</td>\n",
       "      <td>0.0</td>\n",
       "      <td>0.0</td>\n",
       "      <td>Nov</td>\n",
       "      <td>3</td>\n",
       "      <td>2</td>\n",
       "      <td>4</td>\n",
       "      <td>2</td>\n",
       "      <td>Returning_Visitor</td>\n",
       "      <td>True</td>\n",
       "      <td>1</td>\n",
       "      <td>3</td>\n",
       "    </tr>\n",
       "  </tbody>\n",
       "</table>\n",
       "</div>"
      ],
      "text/plain": [
       "   Administrative  Administrative_Duration  ...  Revenue  kfold\n",
       "0               0                     0.00  ...        0      4\n",
       "1               0                     0.00  ...        0      2\n",
       "2               3                   157.40  ...        0      4\n",
       "3               3                   120.00  ...        0      2\n",
       "4               4                    37.25  ...        1      3\n",
       "\n",
       "[5 rows x 19 columns]"
      ]
     },
     "execution_count": 100,
     "metadata": {},
     "output_type": "execute_result"
    }
   ],
   "source": [
    "df.head()"
   ]
  },
  {
   "cell_type": "markdown",
   "metadata": {
    "id": "0j360DY2BzG1"
   },
   "source": [
    "## **Checking missing values and Constant Features**"
   ]
  },
  {
   "cell_type": "code",
   "execution_count": null,
   "metadata": {
    "colab": {
     "base_uri": "https://localhost:8080/"
    },
    "id": "_4kEndN8B4QB",
    "outputId": "c62a66d2-d1d3-47ab-dc04-edb952ab52c1"
   },
   "outputs": [
    {
     "data": {
      "text/plain": [
       "id                         0\n",
       "Administrative             0\n",
       "Administrative_Duration    0\n",
       "Informational              0\n",
       "Informational_Duration     0\n",
       "ProductRelated             0\n",
       "ProductRelated_Duration    0\n",
       "BounceRates                0\n",
       "ExitRates                  0\n",
       "PageValues                 0\n",
       "SpecialDay                 0\n",
       "Month                      0\n",
       "OperatingSystems           0\n",
       "Browser                    0\n",
       "Region                     0\n",
       "TrafficType                0\n",
       "VisitorType                0\n",
       "Weekend                    0\n",
       "Revenue                    0\n",
       "kfold                      0\n",
       "dtype: int64"
      ]
     },
     "execution_count": 18,
     "metadata": {},
     "output_type": "execute_result"
    }
   ],
   "source": [
    "df.isnull().sum()"
   ]
  },
  {
   "cell_type": "code",
   "execution_count": null,
   "metadata": {
    "colab": {
     "base_uri": "https://localhost:8080/"
    },
    "id": "-6kJmf1bXY5q",
    "outputId": "d37f38df-c92a-4eff-b871-94f2c643c0fb"
   },
   "outputs": [
    {
     "data": {
      "text/plain": [
       "id                         False\n",
       "Administrative             False\n",
       "Administrative_Duration    False\n",
       "Informational              False\n",
       "Informational_Duration     False\n",
       "ProductRelated             False\n",
       "ProductRelated_Duration    False\n",
       "BounceRates                False\n",
       "ExitRates                  False\n",
       "PageValues                 False\n",
       "SpecialDay                 False\n",
       "Month                      False\n",
       "OperatingSystems           False\n",
       "Browser                    False\n",
       "Region                     False\n",
       "TrafficType                False\n",
       "VisitorType                False\n",
       "Weekend                    False\n",
       "Revenue                    False\n",
       "kfold                      False\n",
       "dtype: bool"
      ]
     },
     "execution_count": 19,
     "metadata": {},
     "output_type": "execute_result"
    }
   ],
   "source": [
    "df.nunique() == 1"
   ]
  },
  {
   "cell_type": "markdown",
   "metadata": {
    "id": "5UKbgrhZB7uN"
   },
   "source": [
    "### **Data Description**"
   ]
  },
  {
   "cell_type": "code",
   "execution_count": null,
   "metadata": {
    "colab": {
     "base_uri": "https://localhost:8080/",
     "height": 582
    },
    "id": "N0VNR98EbukW",
    "outputId": "23a44546-ca06-4289-e97a-6c17c6c58727"
   },
   "outputs": [
    {
     "data": {
      "text/html": [
       "<div>\n",
       "<style scoped>\n",
       "    .dataframe tbody tr th:only-of-type {\n",
       "        vertical-align: middle;\n",
       "    }\n",
       "\n",
       "    .dataframe tbody tr th {\n",
       "        vertical-align: top;\n",
       "    }\n",
       "\n",
       "    .dataframe thead th {\n",
       "        text-align: right;\n",
       "    }\n",
       "</style>\n",
       "<table border=\"1\" class=\"dataframe\">\n",
       "  <thead>\n",
       "    <tr style=\"text-align: right;\">\n",
       "      <th></th>\n",
       "      <th>count</th>\n",
       "      <th>mean</th>\n",
       "      <th>std</th>\n",
       "      <th>min</th>\n",
       "      <th>25%</th>\n",
       "      <th>50%</th>\n",
       "      <th>75%</th>\n",
       "      <th>max</th>\n",
       "    </tr>\n",
       "  </thead>\n",
       "  <tbody>\n",
       "    <tr>\n",
       "      <th>id</th>\n",
       "      <td>9864.0</td>\n",
       "      <td>4931.500000</td>\n",
       "      <td>2847.635862</td>\n",
       "      <td>0.0</td>\n",
       "      <td>2465.750000</td>\n",
       "      <td>4931.500000</td>\n",
       "      <td>7397.250000</td>\n",
       "      <td>9863.000000</td>\n",
       "    </tr>\n",
       "    <tr>\n",
       "      <th>Administrative</th>\n",
       "      <td>9864.0</td>\n",
       "      <td>2.301906</td>\n",
       "      <td>3.312831</td>\n",
       "      <td>0.0</td>\n",
       "      <td>0.000000</td>\n",
       "      <td>1.000000</td>\n",
       "      <td>4.000000</td>\n",
       "      <td>27.000000</td>\n",
       "    </tr>\n",
       "    <tr>\n",
       "      <th>Administrative_Duration</th>\n",
       "      <td>9864.0</td>\n",
       "      <td>79.932422</td>\n",
       "      <td>173.310874</td>\n",
       "      <td>0.0</td>\n",
       "      <td>0.000000</td>\n",
       "      <td>7.000000</td>\n",
       "      <td>91.770833</td>\n",
       "      <td>2720.500000</td>\n",
       "    </tr>\n",
       "    <tr>\n",
       "      <th>Informational</th>\n",
       "      <td>9864.0</td>\n",
       "      <td>0.492498</td>\n",
       "      <td>1.252128</td>\n",
       "      <td>0.0</td>\n",
       "      <td>0.000000</td>\n",
       "      <td>0.000000</td>\n",
       "      <td>0.000000</td>\n",
       "      <td>24.000000</td>\n",
       "    </tr>\n",
       "    <tr>\n",
       "      <th>Informational_Duration</th>\n",
       "      <td>9864.0</td>\n",
       "      <td>33.723487</td>\n",
       "      <td>137.813445</td>\n",
       "      <td>0.0</td>\n",
       "      <td>0.000000</td>\n",
       "      <td>0.000000</td>\n",
       "      <td>0.000000</td>\n",
       "      <td>2252.033333</td>\n",
       "    </tr>\n",
       "    <tr>\n",
       "      <th>ProductRelated</th>\n",
       "      <td>9864.0</td>\n",
       "      <td>31.724047</td>\n",
       "      <td>44.342798</td>\n",
       "      <td>0.0</td>\n",
       "      <td>7.000000</td>\n",
       "      <td>18.000000</td>\n",
       "      <td>38.000000</td>\n",
       "      <td>705.000000</td>\n",
       "    </tr>\n",
       "    <tr>\n",
       "      <th>ProductRelated_Duration</th>\n",
       "      <td>9864.0</td>\n",
       "      <td>1189.601572</td>\n",
       "      <td>1820.278385</td>\n",
       "      <td>0.0</td>\n",
       "      <td>185.625000</td>\n",
       "      <td>607.544643</td>\n",
       "      <td>1471.893750</td>\n",
       "      <td>43171.233380</td>\n",
       "    </tr>\n",
       "    <tr>\n",
       "      <th>BounceRates</th>\n",
       "      <td>9864.0</td>\n",
       "      <td>0.022265</td>\n",
       "      <td>0.048563</td>\n",
       "      <td>0.0</td>\n",
       "      <td>0.000000</td>\n",
       "      <td>0.003175</td>\n",
       "      <td>0.017077</td>\n",
       "      <td>0.200000</td>\n",
       "    </tr>\n",
       "    <tr>\n",
       "      <th>ExitRates</th>\n",
       "      <td>9864.0</td>\n",
       "      <td>0.043117</td>\n",
       "      <td>0.048575</td>\n",
       "      <td>0.0</td>\n",
       "      <td>0.014286</td>\n",
       "      <td>0.025309</td>\n",
       "      <td>0.050000</td>\n",
       "      <td>0.200000</td>\n",
       "    </tr>\n",
       "    <tr>\n",
       "      <th>PageValues</th>\n",
       "      <td>9864.0</td>\n",
       "      <td>5.858316</td>\n",
       "      <td>18.620643</td>\n",
       "      <td>0.0</td>\n",
       "      <td>0.000000</td>\n",
       "      <td>0.000000</td>\n",
       "      <td>0.000000</td>\n",
       "      <td>361.763742</td>\n",
       "    </tr>\n",
       "    <tr>\n",
       "      <th>SpecialDay</th>\n",
       "      <td>9864.0</td>\n",
       "      <td>0.060645</td>\n",
       "      <td>0.197870</td>\n",
       "      <td>0.0</td>\n",
       "      <td>0.000000</td>\n",
       "      <td>0.000000</td>\n",
       "      <td>0.000000</td>\n",
       "      <td>1.000000</td>\n",
       "    </tr>\n",
       "    <tr>\n",
       "      <th>OperatingSystems</th>\n",
       "      <td>9864.0</td>\n",
       "      <td>2.125101</td>\n",
       "      <td>0.907103</td>\n",
       "      <td>1.0</td>\n",
       "      <td>2.000000</td>\n",
       "      <td>2.000000</td>\n",
       "      <td>3.000000</td>\n",
       "      <td>8.000000</td>\n",
       "    </tr>\n",
       "    <tr>\n",
       "      <th>Browser</th>\n",
       "      <td>9864.0</td>\n",
       "      <td>2.363037</td>\n",
       "      <td>1.730469</td>\n",
       "      <td>1.0</td>\n",
       "      <td>2.000000</td>\n",
       "      <td>2.000000</td>\n",
       "      <td>2.000000</td>\n",
       "      <td>13.000000</td>\n",
       "    </tr>\n",
       "    <tr>\n",
       "      <th>Region</th>\n",
       "      <td>9864.0</td>\n",
       "      <td>3.138281</td>\n",
       "      <td>2.401278</td>\n",
       "      <td>1.0</td>\n",
       "      <td>1.000000</td>\n",
       "      <td>3.000000</td>\n",
       "      <td>4.000000</td>\n",
       "      <td>9.000000</td>\n",
       "    </tr>\n",
       "    <tr>\n",
       "      <th>TrafficType</th>\n",
       "      <td>9864.0</td>\n",
       "      <td>4.054542</td>\n",
       "      <td>4.014430</td>\n",
       "      <td>1.0</td>\n",
       "      <td>2.000000</td>\n",
       "      <td>2.000000</td>\n",
       "      <td>4.000000</td>\n",
       "      <td>20.000000</td>\n",
       "    </tr>\n",
       "    <tr>\n",
       "      <th>Revenue</th>\n",
       "      <td>9864.0</td>\n",
       "      <td>0.154704</td>\n",
       "      <td>0.361641</td>\n",
       "      <td>0.0</td>\n",
       "      <td>0.000000</td>\n",
       "      <td>0.000000</td>\n",
       "      <td>0.000000</td>\n",
       "      <td>1.000000</td>\n",
       "    </tr>\n",
       "    <tr>\n",
       "      <th>kfold</th>\n",
       "      <td>9864.0</td>\n",
       "      <td>1.999797</td>\n",
       "      <td>1.414214</td>\n",
       "      <td>0.0</td>\n",
       "      <td>1.000000</td>\n",
       "      <td>2.000000</td>\n",
       "      <td>3.000000</td>\n",
       "      <td>4.000000</td>\n",
       "    </tr>\n",
       "  </tbody>\n",
       "</table>\n",
       "</div>"
      ],
      "text/plain": [
       "                          count         mean  ...          75%           max\n",
       "id                       9864.0  4931.500000  ...  7397.250000   9863.000000\n",
       "Administrative           9864.0     2.301906  ...     4.000000     27.000000\n",
       "Administrative_Duration  9864.0    79.932422  ...    91.770833   2720.500000\n",
       "Informational            9864.0     0.492498  ...     0.000000     24.000000\n",
       "Informational_Duration   9864.0    33.723487  ...     0.000000   2252.033333\n",
       "ProductRelated           9864.0    31.724047  ...    38.000000    705.000000\n",
       "ProductRelated_Duration  9864.0  1189.601572  ...  1471.893750  43171.233380\n",
       "BounceRates              9864.0     0.022265  ...     0.017077      0.200000\n",
       "ExitRates                9864.0     0.043117  ...     0.050000      0.200000\n",
       "PageValues               9864.0     5.858316  ...     0.000000    361.763742\n",
       "SpecialDay               9864.0     0.060645  ...     0.000000      1.000000\n",
       "OperatingSystems         9864.0     2.125101  ...     3.000000      8.000000\n",
       "Browser                  9864.0     2.363037  ...     2.000000     13.000000\n",
       "Region                   9864.0     3.138281  ...     4.000000      9.000000\n",
       "TrafficType              9864.0     4.054542  ...     4.000000     20.000000\n",
       "Revenue                  9864.0     0.154704  ...     0.000000      1.000000\n",
       "kfold                    9864.0     1.999797  ...     3.000000      4.000000\n",
       "\n",
       "[17 rows x 8 columns]"
      ]
     },
     "execution_count": 20,
     "metadata": {},
     "output_type": "execute_result"
    }
   ],
   "source": [
    "df.describe().T"
   ]
  },
  {
   "cell_type": "markdown",
   "metadata": {
    "id": "4KDz_2aUB__i"
   },
   "source": [
    "## **Creating list of categorical, numerical and useful columns**"
   ]
  },
  {
   "cell_type": "code",
   "execution_count": null,
   "metadata": {
    "id": "nlqaCoYqpnZZ"
   },
   "outputs": [],
   "source": [
    "useful_cols = [col for col in df.columns if col not in ['id', 'Revenue', 'kfold']]\n",
    "categorical = [col for col in useful_cols if df[col].dtype in ['object', 'bool']]\n",
    "numerical = [col for col in useful_cols if col not in categorical]"
   ]
  },
  {
   "cell_type": "markdown",
   "metadata": {
    "id": "r2As0xo0CG14"
   },
   "source": [
    "## **Some Transformations:**\n",
    "- One-Hot-Encoding categorical variables\n",
    "- Encoding ``Weekend`` variable\n",
    "- Applying Power Transformation to numerical columns"
   ]
  },
  {
   "cell_type": "code",
   "execution_count": null,
   "metadata": {
    "id": "xjx98fERtbvu"
   },
   "outputs": [],
   "source": [
    "df_train, df_test = train_test_split(df, test_size=0.2, random_state=7)"
   ]
  },
  {
   "cell_type": "code",
   "execution_count": null,
   "metadata": {
    "id": "J27DwUO_sk_2"
   },
   "outputs": [],
   "source": [
    "le = preprocessing.LabelEncoder() \n",
    "\n",
    "df_train.Weekend = le.fit_transform(df_train.Weekend)\n",
    "df_test.Weekend = le.transform(df_test.Weekend)\n",
    "\n",
    "\n",
    "dicts = df_train.to_dict(orient='records')\n",
    "dv = DictVectorizer(sparse=False)\n",
    "df_train = pd.DataFrame(dv.fit_transform(dicts),columns=list(dv.get_feature_names_out()))\n",
    "df_test = pd.DataFrame(dv.transform(dicts),columns=list(dv.get_feature_names_out()))\n",
    "\n",
    "useful_cols = [col for col in df_train.columns if col not in ['id', 'Revenue', 'kfold']]\n",
    "categorical = [col for col in useful_cols if df_train[col].dtype in ['object', 'bool']]\n",
    "numerical = [col for col in useful_cols if col not in categorical]\n",
    "\n",
    "pt = PowerTransformer()\n",
    "pt_num_tr = pd.DataFrame(pt.fit_transform(df_train[useful_cols]),columns=useful_cols)\n",
    "pt_num_ts = pd.DataFrame(pt.transform(df_test[useful_cols]),columns=useful_cols)\n",
    "df_train = pd.concat([df_train.drop(useful_cols, axis = 1),pt_num_tr],axis=1)\n",
    "df_test = pd.concat([df_test.drop(useful_cols, axis = 1),pt_num_ts],axis=1)\n",
    "\n",
    "useful_cols = [col for col in df_train.columns if col not in ['id', 'Revenue', 'kfold']]\n",
    "categorical = [col for col in useful_cols if df_train[col].dtype in ['object', 'bool']]\n",
    "numerical = [col for col in useful_cols if col not in categorical]\n",
    "scaler= preprocessing.RobustScaler()\n",
    "\n",
    "df_train.Revenue = df_train.Revenue.astype('int')\n",
    "df_train.kfold = df_train.kfold.astype('int')\n",
    "df_test.Revenue = df_test.Revenue.astype('int')\n",
    "df_test.kfold = df_test.kfold.astype('int')"
   ]
  },
  {
   "cell_type": "markdown",
   "metadata": {
    "id": "vUlfUCpWu3Oy"
   },
   "source": [
    "# **Hyper-Tuning and Modelling**\n",
    "- **Hypertuning using Optuna:** \n",
    "  - I've selected f1-score as metrics to decide the final paramters because our data is unbalanced.\n",
    "  - For this pupose i've split the data into 5 Stratified Folds which is shown in a separate notebook.\n",
    "  - Next I've calculated f1-score for both training and validation set.\n",
    "  - For the final function i'm returning the mean_difference of these f1-scores i.e. mean(training_f1) - mean(validation_f1).\n",
    "  - This actually returns a value and we need this distance to be as minimum as possible. Why? because if we observe then validation_f1 must be greater and thats possible when the value is as small as possible (negatively)\n",
    "- **Model Building:**\n",
    "  - Plan here is to build 4 different models each optimized for hyper-parameters using Optuna.\n",
    "  - Finally we use these models with Voting Classifier and get the results using all 4 models."
   ]
  },
  {
   "cell_type": "markdown",
   "metadata": {
    "id": "IZN_Pxx8-IwY"
   },
   "source": [
    "### **Model-1: XGBClassifier:**\n",
    "- Hypertuning using optuna\n",
    "- Model-building"
   ]
  },
  {
   "cell_type": "code",
   "execution_count": null,
   "metadata": {
    "colab": {
     "base_uri": "https://localhost:8080/"
    },
    "id": "cE0pXIbTNGi_",
    "outputId": "7129e486-d6a3-4c93-8682-411b942b2174"
   },
   "outputs": [
    {
     "name": "stderr",
     "output_type": "stream",
     "text": [
      "\u001b[32m[I 2021-12-14 11:52:50,603]\u001b[0m A new study created in memory with name: no-name-0a6b70d4-8ac6-447b-93f0-0a8ff5931470\u001b[0m\n",
      "\u001b[32m[I 2021-12-14 11:52:50,845]\u001b[0m Trial 0 finished with value: 0.012715465302303053 and parameters: {'max_leaf_nodes': 16, 'max_depth': 257, 'criterion': 'gini', 'class_weight': 'balanced'}. Best is trial 0 with value: 0.012715465302303053.\u001b[0m\n"
     ]
    },
    {
     "name": "stdout",
     "output_type": "stream",
     "text": [
      "Fold: 0, f1-Score-train: 0.6485260770975058\n",
      "Fold: 0, f1-Score-valid: 0.6334841628959277\n",
      "Fold: 1, f1-Score-train: 0.6857855361596009\n",
      "Fold: 1, f1-Score-valid: 0.6519524617996604\n",
      "Fold: 2, f1-Score-train: 0.6582478295185478\n",
      "Fold: 2, f1-Score-valid: 0.6646525679758308\n",
      "Fold: 3, f1-Score-train: 0.6432748538011697\n",
      "Fold: 3, f1-Score-valid: 0.6224188790560472\n",
      "Fold: 4, f1-Score-train: 0.6594511016621569\n",
      "Fold: 4, f1-Score-valid: 0.6592\n",
      "Fold: 0, f1-Score-train: 0.6532319391634982\n",
      "Fold: 0, f1-Score-valid: 0.6412213740458015\n",
      "Fold: 1, f1-Score-train: 0.6420391577391946\n",
      "Fold: 1, f1-Score-valid: 0.6179604261796042\n",
      "Fold: 2, f1-Score-train: 0.6589916633584756\n",
      "Fold: 2, f1-Score-valid: 0.6636363636363637\n",
      "Fold: 3, f1-Score-train: 0.6358715265247203\n",
      "Fold: 3, f1-Score-valid: 0.6120689655172413\n"
     ]
    },
    {
     "name": "stderr",
     "output_type": "stream",
     "text": [
      "\u001b[32m[I 2021-12-14 11:52:51,131]\u001b[0m Trial 1 finished with value: 0.009393152133642335 and parameters: {'max_leaf_nodes': 18, 'max_depth': 368, 'criterion': 'entropy', 'class_weight': 'balanced'}. Best is trial 1 with value: 0.009393152133642335.\u001b[0m\n"
     ]
    },
    {
     "name": "stdout",
     "output_type": "stream",
     "text": [
      "Fold: 4, f1-Score-train: 0.6342525399129173\n",
      "Fold: 4, f1-Score-valid: 0.6425339366515838\n"
     ]
    }
   ],
   "source": [
    "def objective(trial): \n",
    "    scores_valid = []\n",
    "    scores_train = []\n",
    "    for fold in range(5):\n",
    "      xtrain =  df_train[df_train.kfold != fold].reset_index(drop=True)\n",
    "      xvalid = df_train[df_train.kfold == fold].reset_index(drop=True)\n",
    "\n",
    "      ytrain = xtrain.Revenue\n",
    "      yvalid = xvalid.Revenue\n",
    "      \n",
    "      xtrain = xtrain[useful_cols]\n",
    "      xvalid = xvalid[useful_cols]\n",
    "\n",
    "\n",
    "      params = {'max_leaf_nodes': trial.suggest_int('max_leaf_nodes', 3, 20), \n",
    "            'max_depth': trial.suggest_int('max_depth', 10, 400), \n",
    "            'criterion': trial.suggest_categorical('criterion', ['gini', 'entropy']), \n",
    "            'class_weight': trial.suggest_categorical('class_weight', ['balanced'])\n",
    "            }\n",
    "\n",
    "      model = DecisionTreeClassifier(**params, random_state=42)\n",
    "      model.fit(xtrain,ytrain)                                                      # Training the Model on training set\n",
    "\n",
    "      # Predictions and Evaluation\n",
    "      preds_train = model.predict(xtrain) \n",
    "      preds_valid = model.predict(xvalid)                              \n",
    "      f1_score_train = metrics.f1_score(ytrain, preds_train)\n",
    "      f1_score_valid = metrics.f1_score(yvalid, preds_valid)                    \n",
    "      print(f\"Fold: {fold}, f1-Score-train: {f1_score_train}\")\n",
    "      print(f\"Fold: {fold}, f1-Score-valid: {f1_score_valid}\")\n",
    "      scores_valid.append(f1_score_valid)\n",
    "      scores_train.append(f1_score_train)\n",
    "    return np.mean(scores_train) - np.mean(scores_valid) \n",
    "study = optuna.create_study(direction='minimize')                            \n",
    "study.optimize(objective, n_trials=2)"
   ]
  },
  {
   "cell_type": "code",
   "execution_count": null,
   "metadata": {
    "colab": {
     "base_uri": "https://localhost:8080/"
    },
    "id": "rRhJ2rOaaXVK",
    "outputId": "d934ba1d-13c7-4768-f8f9-34f185db54a3"
   },
   "outputs": [
    {
     "name": "stdout",
     "output_type": "stream",
     "text": [
      "Fold 0 f1-score-train:  0.6709021601016518\n",
      "Fold 0 f1-score-Valid:  0.6746166950596253\n",
      "Fold 0 f1-score-Test:  0.6716417910447762\n",
      "Fold 1 f1-score-train:  0.6736930860033726\n",
      "Fold 1 f1-score-Valid:  0.6643478260869565\n",
      "Fold 1 f1-score-Test:  0.6718696979979639\n",
      "Fold 2 f1-score-train:  0.6689566337483899\n",
      "Fold 2 f1-score-Valid:  0.6828478964401294\n",
      "Fold 2 f1-score-Test:  0.6718696979979639\n",
      "Fold 3 f1-score-train:  0.6754348748408995\n",
      "Fold 3 f1-score-Valid:  0.6576271186440678\n",
      "Fold 3 f1-score-Test:  0.6718696979979639\n",
      "Fold 4 f1-score-train:  0.6703250316589278\n",
      "Fold 4 f1-score-Valid:  0.6782006920415226\n",
      "Fold 4 f1-score-Test:  0.6718696979979639\n",
      "0.6718623572706482 0.00235978928339725\n",
      "0.6715280456544603 0.009241150486280813\n",
      "0.6718241166073263 9.116278127510035e-05\n"
     ]
    }
   ],
   "source": [
    "scores_train = []\n",
    "scores_valid = []\n",
    "scores_test = []\n",
    "final_test_predictions = []\n",
    "for fold in range(5):\n",
    "  xtrain =  df_train[df_train.kfold != fold].reset_index(drop=True)\n",
    "  xvalid = df_train[df_train.kfold == fold].reset_index(drop=True)\n",
    "  xtest = df_test.copy()\n",
    "\n",
    "  ytrain = xtrain.Revenue\n",
    "  yvalid = xvalid.Revenue\n",
    "  ytest = xtest.Revenue\n",
    "  \n",
    "  \n",
    "  xtrain = xtrain[useful_cols]\n",
    "  xvalid = xvalid[useful_cols]\n",
    "  xtest = xtest[useful_cols]\n",
    "\n",
    "  xtrain[numerical] = scaler.fit_transform(xtrain[numerical])\n",
    "  xvalid[numerical] = scaler.transform(xvalid[numerical])\n",
    "  xtest[numerical] = scaler.transform(xtest[numerical])\n",
    "\n",
    "  params = {'max_leaf_nodes': 6, 'max_depth': 254, 'criterion': 'entropy', 'class_weight': 'balanced'}\n",
    "\n",
    "  model = DecisionTreeClassifier(**params, random_state=42)\n",
    "  model.fit(xtrain,ytrain)  \n",
    "  \n",
    "  preds_valid = model.predict(xvalid)\n",
    "  preds_train = model.predict(xtrain)\n",
    "  test_preds = model.predict(xtest)  \n",
    "  final_test_predictions.append(test_preds)\n",
    "  f1_score_valid = metrics.f1_score(yvalid, preds_valid)\n",
    "  f1_score_train = metrics.f1_score(ytrain, preds_train)\n",
    "  f1_score_test = metrics.f1_score(ytest, test_preds)\n",
    "  print(f'Fold {fold} f1-score-train: ', f1_score_train)\n",
    "  print(f'Fold {fold} f1-score-Valid: ', f1_score_valid)\n",
    "  print(f'Fold {fold} f1-score-Test: ', f1_score_test)\n",
    "  scores_train.append(f1_score_train)\n",
    "  scores_valid.append(f1_score_valid)\n",
    "  scores_test.append(f1_score_test)\n",
    "    \n",
    "print(np.mean(scores_train), np.std(scores_train))\n",
    "print(np.mean(scores_valid), np.std(scores_valid))\n",
    "print(np.mean(scores_test), np.std(scores_test))"
   ]
  },
  {
   "cell_type": "markdown",
   "metadata": {
    "id": "-Op-JYku-Ufg"
   },
   "source": [
    "### **Model-2: MLPClassifier**"
   ]
  },
  {
   "cell_type": "code",
   "execution_count": null,
   "metadata": {
    "colab": {
     "base_uri": "https://localhost:8080/"
    },
    "id": "Ol8k32ePPxgr",
    "outputId": "70780b3b-6abb-4ae1-ca6b-984e953a4289"
   },
   "outputs": [
    {
     "name": "stderr",
     "output_type": "stream",
     "text": [
      "\u001b[32m[I 2021-12-14 09:25:06,141]\u001b[0m A new study created in memory with name: no-name-1335cf0d-48da-4c4b-99a2-fc9ce5999b2d\u001b[0m\n"
     ]
    },
    {
     "name": "stdout",
     "output_type": "stream",
     "text": [
      "Fold: 0, f1-Score-train: 0.6859430604982206\n",
      "Fold: 0, f1-Score-valid: 0.6514886164623467\n",
      "Fold: 1, f1-Score-train: 0.6822388717496696\n",
      "Fold: 1, f1-Score-valid: 0.689165186500888\n",
      "Fold: 2, f1-Score-train: 0.6862575626620571\n",
      "Fold: 2, f1-Score-valid: 0.6946308724832214\n",
      "Fold: 3, f1-Score-train: 0.6912928759894459\n",
      "Fold: 3, f1-Score-valid: 0.6137184115523466\n"
     ]
    },
    {
     "name": "stderr",
     "output_type": "stream",
     "text": [
      "\u001b[32m[I 2021-12-14 09:25:12,556]\u001b[0m Trial 0 finished with value: 0.022685724547222952 and parameters: {'alpha': 0.008577818477079875, 'hidden_layer_sizes': 17, 'max_iter': 46}. Best is trial 0 with value: 0.022685724547222952.\u001b[0m\n"
     ]
    },
    {
     "name": "stdout",
     "output_type": "stream",
     "text": [
      "Fold: 4, f1-Score-train: 0.688077430708315\n",
      "Fold: 4, f1-Score-valid: 0.6713780918727915\n",
      "Fold: 0, f1-Score-train: 0.6855895196506551\n",
      "Fold: 0, f1-Score-valid: 0.6598290598290599\n",
      "Fold: 1, f1-Score-train: 0.6876328091797705\n",
      "Fold: 1, f1-Score-valid: 0.7032590051457975\n",
      "Fold: 2, f1-Score-train: 0.6798452943704341\n",
      "Fold: 2, f1-Score-valid: 0.6863711001642037\n",
      "Fold: 3, f1-Score-train: 0.6946264744429882\n",
      "Fold: 3, f1-Score-valid: 0.6142857142857143\n"
     ]
    },
    {
     "name": "stderr",
     "output_type": "stream",
     "text": [
      "\u001b[32m[I 2021-12-14 09:25:18,287]\u001b[0m Trial 1 finished with value: 0.016759675365156212 and parameters: {'alpha': 0.014553730682436575, 'hidden_layer_sizes': 19, 'max_iter': 39}. Best is trial 1 with value: 0.016759675365156212.\u001b[0m\n"
     ]
    },
    {
     "name": "stdout",
     "output_type": "stream",
     "text": [
      "Fold: 4, f1-Score-train: 0.6781708369283865\n",
      "Fold: 4, f1-Score-valid: 0.6783216783216782\n",
      "Fold: 0, f1-Score-train: 0.689068100358423\n",
      "Fold: 0, f1-Score-valid: 0.6619718309859155\n",
      "Fold: 1, f1-Score-train: 0.6761187416925122\n",
      "Fold: 1, f1-Score-valid: 0.6857142857142857\n",
      "Fold: 2, f1-Score-train: 0.6803135888501743\n",
      "Fold: 2, f1-Score-valid: 0.6891891891891893\n",
      "Fold: 3, f1-Score-train: 0.6938239159001314\n",
      "Fold: 3, f1-Score-valid: 0.6310160427807487\n"
     ]
    },
    {
     "name": "stderr",
     "output_type": "stream",
     "text": [
      "\u001b[32m[I 2021-12-14 09:25:25,985]\u001b[0m Trial 2 finished with value: 0.017424369758328728 and parameters: {'alpha': 0.0212980010814328, 'hidden_layer_sizes': 12, 'max_iter': 63}. Best is trial 1 with value: 0.016759675365156212.\u001b[0m\n"
     ]
    },
    {
     "name": "stdout",
     "output_type": "stream",
     "text": [
      "Fold: 4, f1-Score-train: 0.6788094180364282\n",
      "Fold: 4, f1-Score-valid: 0.6631205673758865\n",
      "Fold: 0, f1-Score-train: 0.6803672933974639\n",
      "Fold: 0, f1-Score-valid: 0.6689536878216124\n",
      "Fold: 1, f1-Score-train: 0.6768826619964974\n",
      "Fold: 1, f1-Score-valid: 0.6797153024911032\n",
      "Fold: 2, f1-Score-train: 0.6651785714285715\n",
      "Fold: 2, f1-Score-valid: 0.6850258175559379\n",
      "Fold: 3, f1-Score-train: 0.6815203145478375\n",
      "Fold: 3, f1-Score-valid: 0.6368515205724509\n"
     ]
    },
    {
     "name": "stderr",
     "output_type": "stream",
     "text": [
      "\u001b[32m[I 2021-12-14 09:25:32,818]\u001b[0m Trial 3 finished with value: 0.006437743241638927 and parameters: {'alpha': 0.15018277561775956, 'hidden_layer_sizes': 9, 'max_iter': 58}. Best is trial 3 with value: 0.006437743241638927.\u001b[0m\n"
     ]
    },
    {
     "name": "stdout",
     "output_type": "stream",
     "text": [
      "Fold: 4, f1-Score-train: 0.6747932085328691\n",
      "Fold: 4, f1-Score-valid: 0.6760070052539404\n",
      "Fold: 0, f1-Score-train: 0.6657906263688129\n",
      "Fold: 0, f1-Score-valid: 0.647359454855196\n",
      "Fold: 1, f1-Score-train: 0.6594885598923285\n",
      "Fold: 1, f1-Score-valid: 0.6606822262118491\n",
      "Fold: 2, f1-Score-train: 0.6589595375722542\n",
      "Fold: 2, f1-Score-valid: 0.6689419795221843\n",
      "Fold: 3, f1-Score-train: 0.6631944444444444\n",
      "Fold: 3, f1-Score-valid: 0.6261180679785331\n"
     ]
    },
    {
     "name": "stderr",
     "output_type": "stream",
     "text": [
      "\u001b[32m[I 2021-12-14 09:25:37,591]\u001b[0m Trial 4 finished with value: 0.008106441456344093 and parameters: {'alpha': 0.0037575421589616264, 'hidden_layer_sizes': 9, 'max_iter': 35}. Best is trial 3 with value: 0.006437743241638927.\u001b[0m\n"
     ]
    },
    {
     "name": "stdout",
     "output_type": "stream",
     "text": [
      "Fold: 4, f1-Score-train: 0.661693725318122\n",
      "Fold: 4, f1-Score-valid: 0.6654929577464789\n",
      "Fold: 0, f1-Score-train: 0.6713286713286714\n",
      "Fold: 0, f1-Score-valid: 0.6428571428571428\n",
      "Fold: 1, f1-Score-train: 0.6532438478747203\n",
      "Fold: 1, f1-Score-valid: 0.6750902527075813\n",
      "Fold: 2, f1-Score-train: 0.6557085739671258\n",
      "Fold: 2, f1-Score-valid: 0.6666666666666667\n",
      "Fold: 3, f1-Score-train: 0.6767111493758071\n",
      "Fold: 3, f1-Score-valid: 0.63986013986014\n"
     ]
    },
    {
     "name": "stderr",
     "output_type": "stream",
     "text": [
      "\u001b[32m[I 2021-12-14 09:25:44,490]\u001b[0m Trial 5 finished with value: 0.007712692356729445 and parameters: {'alpha': 0.6007113972305819, 'hidden_layer_sizes': 10, 'max_iter': 56}. Best is trial 3 with value: 0.006437743241638927.\u001b[0m\n"
     ]
    },
    {
     "name": "stdout",
     "output_type": "stream",
     "text": [
      "Fold: 4, f1-Score-train: 0.6619593998234775\n",
      "Fold: 4, f1-Score-valid: 0.6559139784946237\n",
      "Fold: 0, f1-Score-train: 0.6929936305732484\n",
      "Fold: 0, f1-Score-valid: 0.6599664991624791\n",
      "Fold: 1, f1-Score-train: 0.6701525054466231\n",
      "Fold: 1, f1-Score-valid: 0.6956521739130433\n",
      "Fold: 2, f1-Score-train: 0.6716483516483517\n",
      "Fold: 2, f1-Score-valid: 0.6858108108108109\n",
      "Fold: 3, f1-Score-train: 0.6840707964601771\n",
      "Fold: 3, f1-Score-valid: 0.6181818181818182\n"
     ]
    },
    {
     "name": "stderr",
     "output_type": "stream",
     "text": [
      "\u001b[32m[I 2021-12-14 09:25:53,392]\u001b[0m Trial 6 finished with value: 0.013470914844944226 and parameters: {'alpha': 0.6896823101923782, 'hidden_layer_sizes': 18, 'max_iter': 70}. Best is trial 3 with value: 0.006437743241638927.\u001b[0m\n"
     ]
    },
    {
     "name": "stdout",
     "output_type": "stream",
     "text": [
      "Fold: 4, f1-Score-train: 0.6851299531316575\n",
      "Fold: 4, f1-Score-valid: 0.6770293609671848\n",
      "Fold: 0, f1-Score-train: 0.6770186335403726\n",
      "Fold: 0, f1-Score-valid: 0.6620450606585788\n",
      "Fold: 1, f1-Score-train: 0.6768160069595477\n",
      "Fold: 1, f1-Score-valid: 0.6901408450704225\n",
      "Fold: 2, f1-Score-train: 0.678540399652476\n",
      "Fold: 2, f1-Score-valid: 0.6933333333333332\n",
      "Fold: 3, f1-Score-train: 0.6807174887892378\n",
      "Fold: 3, f1-Score-valid: 0.5908256880733945\n"
     ]
    },
    {
     "name": "stderr",
     "output_type": "stream",
     "text": [
      "\u001b[32m[I 2021-12-14 09:25:59,379]\u001b[0m Trial 7 finished with value: 0.015217652229312928 and parameters: {'alpha': 0.021208151887414133, 'hidden_layer_sizes': 20, 'max_iter': 41}. Best is trial 3 with value: 0.006437743241638927.\u001b[0m\n"
     ]
    },
    {
     "name": "stdout",
     "output_type": "stream",
     "text": [
      "Fold: 4, f1-Score-train: 0.6707692307692308\n",
      "Fold: 4, f1-Score-valid: 0.6714285714285715\n",
      "Fold: 0, f1-Score-train: 0.6696388765046812\n",
      "Fold: 0, f1-Score-valid: 0.6397188049209139\n",
      "Fold: 1, f1-Score-train: 0.6646234676007006\n",
      "Fold: 1, f1-Score-valid: 0.6982456140350878\n",
      "Fold: 2, f1-Score-train: 0.6823027718550106\n",
      "Fold: 2, f1-Score-valid: 0.6918032786885245\n",
      "Fold: 3, f1-Score-train: 0.6782608695652174\n",
      "Fold: 3, f1-Score-valid: 0.6278659611992945\n"
     ]
    },
    {
     "name": "stderr",
     "output_type": "stream",
     "text": [
      "\u001b[32m[I 2021-12-14 09:26:04,096]\u001b[0m Trial 8 finished with value: 0.009597334269128899 and parameters: {'alpha': 0.8550184024585615, 'hidden_layer_sizes': 17, 'max_iter': 34}. Best is trial 3 with value: 0.006437743241638927.\u001b[0m\n"
     ]
    },
    {
     "name": "stdout",
     "output_type": "stream",
     "text": [
      "Fold: 4, f1-Score-train: 0.6642952423299243\n",
      "Fold: 4, f1-Score-valid: 0.6535008976660682\n",
      "Fold: 0, f1-Score-train: 0.6524390243902439\n",
      "Fold: 0, f1-Score-valid: 0.651085141903172\n",
      "Fold: 1, f1-Score-train: 0.6445993031358885\n",
      "Fold: 1, f1-Score-valid: 0.650994575045208\n",
      "Fold: 2, f1-Score-train: 0.6483420593368238\n",
      "Fold: 2, f1-Score-valid: 0.6733668341708543\n",
      "Fold: 3, f1-Score-train: 0.6617710583153348\n",
      "Fold: 3, f1-Score-valid: 0.6123893805309735\n"
     ]
    },
    {
     "name": "stderr",
     "output_type": "stream",
     "text": [
      "\u001b[32m[I 2021-12-14 09:26:07,829]\u001b[0m Trial 9 finished with value: 0.004917391425939499 and parameters: {'alpha': 0.09631013728513668, 'hidden_layer_sizes': 7, 'max_iter': 30}. Best is trial 9 with value: 0.004917391425939499.\u001b[0m\n"
     ]
    },
    {
     "name": "stdout",
     "output_type": "stream",
     "text": [
      "Fold: 4, f1-Score-train: 0.6434176111595465\n",
      "Fold: 4, f1-Score-valid: 0.6381461675579323\n"
     ]
    }
   ],
   "source": [
    "def objective(trial): \n",
    "  scores_valid = []\n",
    "  scores_train = []\n",
    "  for fold in range(5):\n",
    "  \n",
    "    xtrain =  df_train[df_train.kfold != fold].reset_index(drop=True)\n",
    "    xvalid = df_train[df_train.kfold == fold].reset_index(drop=True)\n",
    "\n",
    "    ytrain = xtrain.Revenue\n",
    "    yvalid = xvalid.Revenue\n",
    "    \n",
    "    xtrain = xtrain[useful_cols]\n",
    "    xvalid = xvalid[useful_cols]\n",
    "\n",
    "    xtrain[numerical] = scaler.fit_transform(xtrain[numerical])\n",
    "    xvalid[numerical] = scaler.transform(xvalid[numerical])\n",
    "\n",
    "    params = {\n",
    "        'alpha': trial.suggest_loguniform('alpha',1e-3,1), \n",
    "        'hidden_layer_sizes': trial.suggest_int('hidden_layer_sizes',5,20),\n",
    "        'max_iter': trial.suggest_int('max_iter',30,70)}\n",
    "    \n",
    "    model= MLPClassifier(**params,random_state=7,tol=1e-4)\n",
    "    model.fit(xtrain,ytrain)\n",
    "\n",
    "    # Predictions and Evaluation\n",
    "    preds_train = model.predict(xtrain) \n",
    "    preds_valid = model.predict(xvalid)                              \n",
    "    f1_score_train = metrics.f1_score(ytrain, preds_train)\n",
    "    f1_score_valid = metrics.f1_score(yvalid, preds_valid)                    \n",
    "    print(f\"Fold: {fold}, f1-Score-train: {f1_score_train}\")\n",
    "    print(f\"Fold: {fold}, f1-Score-valid: {f1_score_valid}\")\n",
    "    scores_valid.append(f1_score_valid)\n",
    "    scores_train.append(f1_score_train)\n",
    "  return np.mean(scores_train) - np.mean(scores_valid)\n",
    "study = optuna.create_study(direction='minimize')                            \n",
    "study.optimize(objective, n_trials=10)\n"
   ]
  },
  {
   "cell_type": "code",
   "execution_count": null,
   "metadata": {
    "colab": {
     "base_uri": "https://localhost:8080/"
    },
    "id": "MYpH8LtNelig",
    "outputId": "9d635940-2c7c-4853-9b92-0487b7a16de8"
   },
   "outputs": [
    {
     "name": "stdout",
     "output_type": "stream",
     "text": [
      "Fold 0 f1-score-train:  0.6524390243902439\n",
      "Fold 0 f1-score-Valid:  0.651085141903172\n",
      "Fold 1 f1-score-train:  0.6445993031358885\n",
      "Fold 1 f1-score-Valid:  0.650994575045208\n",
      "Fold 2 f1-score-train:  0.6483420593368238\n",
      "Fold 2 f1-score-Valid:  0.6733668341708543\n",
      "Fold 3 f1-score-train:  0.6617710583153348\n",
      "Fold 3 f1-score-Valid:  0.6123893805309735\n",
      "Fold 4 f1-score-train:  0.6434176111595465\n",
      "Fold 4 f1-score-Valid:  0.6381461675579323\n",
      "0.6501138112675675 0.006628514547372634\n",
      "0.645196419841628 0.01993928674931871\n"
     ]
    }
   ],
   "source": [
    "scores_train = []\n",
    "scores_valid = []\n",
    "final_test_predictions = []\n",
    "for fold in range(5):\n",
    "  xtrain =  df_train[df_train.kfold != fold].reset_index(drop=True)\n",
    "  xvalid = df_train[df_train.kfold == fold].reset_index(drop=True)\n",
    "  xtest = df_test.copy()\n",
    "\n",
    "  ytrain = xtrain.Revenue\n",
    "  yvalid = xvalid.Revenue\n",
    "  \n",
    "  \n",
    "  xtrain = xtrain[useful_cols]\n",
    "  xvalid = xvalid[useful_cols]\n",
    "  xtest = xtest[useful_cols]\n",
    "\n",
    "  xtrain[numerical] = scaler.fit_transform(xtrain[numerical])\n",
    "  xvalid[numerical] = scaler.transform(xvalid[numerical])\n",
    "  xtest[numerical] = scaler.transform(xtest[numerical])\n",
    "\n",
    "  params ={'alpha': 0.09631013728513668, 'hidden_layer_sizes': 7, 'max_iter': 30}\n",
    "\n",
    "  model= MLPClassifier(**params,random_state=7,tol=1e-4)\n",
    "  model.fit(xtrain,ytrain) \n",
    "\n",
    "  preds_valid = model.predict(xvalid)\n",
    "  preds_train = model.predict(xtrain)\n",
    "  test_preds = model.predict(xtest)  \n",
    "  final_test_predictions.append(test_preds)\n",
    "  f1_score_valid = metrics.f1_score(yvalid, preds_valid)\n",
    "  f1_score_train = metrics.f1_score(ytrain, preds_train)\n",
    "  print(f'Fold {fold} f1-score-train: ', f1_score_train)\n",
    "  print(f'Fold {fold} f1-score-Valid: ', f1_score_valid)\n",
    "  scores_train.append(f1_score_train)\n",
    "  scores_valid.append(f1_score_valid)\n",
    "    \n",
    "print(np.mean(scores_train), np.std(scores_train))\n",
    "print(np.mean(scores_valid), np.std(scores_valid))"
   ]
  },
  {
   "cell_type": "markdown",
   "metadata": {
    "id": "EEMl6O2G-r2W"
   },
   "source": [
    "### **Model-3: LGBM**"
   ]
  },
  {
   "cell_type": "code",
   "execution_count": null,
   "metadata": {
    "colab": {
     "base_uri": "https://localhost:8080/"
    },
    "id": "N1zMieZnQxNE",
    "outputId": "53c8df29-cec6-4000-94fd-b4f6430080ce"
   },
   "outputs": [
    {
     "name": "stderr",
     "output_type": "stream",
     "text": [
      "\u001b[32m[I 2021-12-14 09:30:02,631]\u001b[0m A new study created in memory with name: no-name-7f6f39c6-2a33-401c-8cad-99a4f83b04f7\u001b[0m\n"
     ]
    },
    {
     "name": "stdout",
     "output_type": "stream",
     "text": [
      "Fold: 0, f1-Score-train: 0.6838365896980462\n",
      "Fold: 0, f1-Score-valid: 0.647985989492119\n",
      "Fold: 1, f1-Score-train: 0.6848847139197267\n",
      "Fold: 1, f1-Score-valid: 0.6821428571428572\n",
      "Fold: 2, f1-Score-train: 0.6718954248366014\n",
      "Fold: 2, f1-Score-valid: 0.687813021702838\n",
      "Fold: 3, f1-Score-train: 0.6910814304179232\n",
      "Fold: 3, f1-Score-valid: 0.6192170818505338\n"
     ]
    },
    {
     "name": "stderr",
     "output_type": "stream",
     "text": [
      "\u001b[32m[I 2021-12-14 09:30:04,255]\u001b[0m Trial 0 finished with value: 0.021397373381658924 and parameters: {'objective': 'binary', 'boosting_type': 'gbdt', 'num_leaves': 8, 'max_depth': 59, 'learning_rate': 0.321, 'n_estimators': 389, 'reg_alpha': 2.18756112559954, 'reg_lambda': 3.787879005151599, 'subsample': 0.32, 'subsample_freq': 9, 'colsample_bytree': 0.5, 'min_child_samples': 41, 'min_child_weight': 48}. Best is trial 0 with value: 0.021397373381658924.\u001b[0m\n"
     ]
    },
    {
     "name": "stdout",
     "output_type": "stream",
     "text": [
      "Fold: 4, f1-Score-train: 0.6907085277895629\n",
      "Fold: 4, f1-Score-valid: 0.6782608695652174\n",
      "Fold: 0, f1-Score-train: 0.0\n",
      "Fold: 0, f1-Score-valid: 0.0\n",
      "Fold: 1, f1-Score-train: 0.0\n",
      "Fold: 1, f1-Score-valid: 0.0\n",
      "Fold: 2, f1-Score-train: 0.0\n",
      "Fold: 2, f1-Score-valid: 0.0\n",
      "Fold: 3, f1-Score-train: 0.0\n",
      "Fold: 3, f1-Score-valid: 0.0\n"
     ]
    },
    {
     "name": "stderr",
     "output_type": "stream",
     "text": [
      "\u001b[32m[I 2021-12-14 09:30:05,165]\u001b[0m Trial 1 finished with value: 0.0 and parameters: {'objective': 'binary', 'boosting_type': 'gbdt', 'num_leaves': 87, 'max_depth': 77, 'learning_rate': 0.081, 'n_estimators': 269, 'reg_alpha': 35.97250316999857, 'reg_lambda': 1.9455331881532867, 'subsample': 0.06999999999999999, 'subsample_freq': 4, 'colsample_bytree': 0.6900000000000001, 'min_child_samples': 66, 'min_child_weight': 36}. Best is trial 1 with value: 0.0.\u001b[0m\n"
     ]
    },
    {
     "name": "stdout",
     "output_type": "stream",
     "text": [
      "Fold: 4, f1-Score-train: 0.0\n",
      "Fold: 4, f1-Score-valid: 0.0\n",
      "Fold: 0, f1-Score-train: 0.6583961010190518\n",
      "Fold: 0, f1-Score-valid: 0.6460481099656357\n",
      "Fold: 1, f1-Score-train: 0.6474245115452931\n",
      "Fold: 1, f1-Score-valid: 0.6581352833638026\n",
      "Fold: 2, f1-Score-train: 0.6443322625057366\n",
      "Fold: 2, f1-Score-valid: 0.6689895470383275\n",
      "Fold: 3, f1-Score-train: 0.6632434745400085\n",
      "Fold: 3, f1-Score-valid: 0.6216696269982238\n"
     ]
    },
    {
     "name": "stderr",
     "output_type": "stream",
     "text": [
      "\u001b[32m[I 2021-12-14 09:30:06,428]\u001b[0m Trial 2 finished with value: 0.0026237678208478332 and parameters: {'objective': 'binary', 'boosting_type': 'gbdt', 'num_leaves': 47, 'max_depth': 17, 'learning_rate': 0.331, 'n_estimators': 469, 'reg_alpha': 30.654408167803027, 'reg_lambda': 8.742258358130245, 'subsample': 0.45, 'subsample_freq': 9, 'colsample_bytree': 0.49, 'min_child_samples': 26, 'min_child_weight': 32}. Best is trial 1 with value: 0.0.\u001b[0m\n"
     ]
    },
    {
     "name": "stdout",
     "output_type": "stream",
     "text": [
      "Fold: 4, f1-Score-train: 0.6504209127159947\n",
      "Fold: 4, f1-Score-valid: 0.6558558558558559\n",
      "Fold: 0, f1-Score-train: 0.6575342465753424\n",
      "Fold: 0, f1-Score-valid: 0.6426116838487973\n",
      "Fold: 1, f1-Score-train: 0.6492505353319058\n",
      "Fold: 1, f1-Score-valid: 0.6573426573426573\n",
      "Fold: 2, f1-Score-train: 0.6564952048823016\n",
      "Fold: 2, f1-Score-valid: 0.6688741721854304\n",
      "Fold: 3, f1-Score-train: 0.667520273154076\n",
      "Fold: 3, f1-Score-valid: 0.6161971830985916\n"
     ]
    },
    {
     "name": "stderr",
     "output_type": "stream",
     "text": [
      "\u001b[32m[I 2021-12-14 09:30:07,742]\u001b[0m Trial 3 finished with value: 0.009417468929340478 and parameters: {'objective': 'binary', 'boosting_type': 'gbdt', 'num_leaves': 8, 'max_depth': 29, 'learning_rate': 0.301, 'n_estimators': 1027, 'reg_alpha': 36.0216439809581, 'reg_lambda': 5.087814051161674, 'subsample': 0.48000000000000004, 'subsample_freq': 20, 'colsample_bytree': 0.74, 'min_child_samples': 16, 'min_child_weight': 62}. Best is trial 1 with value: 0.0.\u001b[0m\n"
     ]
    },
    {
     "name": "stdout",
     "output_type": "stream",
     "text": [
      "Fold: 4, f1-Score-train: 0.6496644295302014\n",
      "Fold: 4, f1-Score-valid: 0.6483516483516485\n",
      "Fold: 0, f1-Score-train: 0.6606170598911071\n",
      "Fold: 0, f1-Score-valid: 0.6231884057971014\n",
      "Fold: 1, f1-Score-train: 0.6332453825857519\n",
      "Fold: 1, f1-Score-valid: 0.643510054844607\n",
      "Fold: 2, f1-Score-train: 0.6453048509123276\n",
      "Fold: 2, f1-Score-valid: 0.6531986531986531\n",
      "Fold: 3, f1-Score-train: 0.6579177602799651\n",
      "Fold: 3, f1-Score-valid: 0.6181818181818182\n"
     ]
    },
    {
     "name": "stderr",
     "output_type": "stream",
     "text": [
      "\u001b[32m[I 2021-12-14 09:30:09,434]\u001b[0m Trial 4 finished with value: 0.014042603639739193 and parameters: {'objective': 'binary', 'boosting_type': 'gbdt', 'num_leaves': 74, 'max_depth': 21, 'learning_rate': 0.221, 'n_estimators': 373, 'reg_alpha': 23.24714584974088, 'reg_lambda': 4.54950214801149, 'subsample': 0.37, 'subsample_freq': 18, 'colsample_bytree': 0.21000000000000002, 'min_child_samples': 64, 'min_child_weight': 16}. Best is trial 1 with value: 0.0.\u001b[0m\n"
     ]
    },
    {
     "name": "stdout",
     "output_type": "stream",
     "text": [
      "Fold: 4, f1-Score-train: 0.6663793103448277\n",
      "Fold: 4, f1-Score-valid: 0.6551724137931035\n",
      "Fold: 0, f1-Score-train: 0.0\n",
      "Fold: 0, f1-Score-valid: 0.0\n",
      "Fold: 1, f1-Score-train: 0.0\n",
      "Fold: 1, f1-Score-valid: 0.0\n",
      "Fold: 2, f1-Score-train: 0.0\n",
      "Fold: 2, f1-Score-valid: 0.0\n"
     ]
    },
    {
     "name": "stderr",
     "output_type": "stream",
     "text": [
      "\u001b[32m[I 2021-12-14 09:30:10,218]\u001b[0m Trial 5 finished with value: 0.0 and parameters: {'objective': 'binary', 'boosting_type': 'gbdt', 'num_leaves': 12, 'max_depth': 75, 'learning_rate': 0.291, 'n_estimators': 389, 'reg_alpha': 29.51110709016299, 'reg_lambda': 8.82667339789244, 'subsample': 0.03, 'subsample_freq': 13, 'colsample_bytree': 0.41000000000000003, 'min_child_samples': 34, 'min_child_weight': 68}. Best is trial 1 with value: 0.0.\u001b[0m\n"
     ]
    },
    {
     "name": "stdout",
     "output_type": "stream",
     "text": [
      "Fold: 3, f1-Score-train: 0.0\n",
      "Fold: 3, f1-Score-valid: 0.0\n",
      "Fold: 4, f1-Score-train: 0.0\n",
      "Fold: 4, f1-Score-valid: 0.0\n",
      "Fold: 0, f1-Score-train: 0.5669144981412639\n",
      "Fold: 0, f1-Score-valid: 0.5816876122082586\n",
      "Fold: 1, f1-Score-train: 0.5645086166744294\n",
      "Fold: 1, f1-Score-valid: 0.5380116959064327\n",
      "Fold: 2, f1-Score-train: 0.5657959586002956\n",
      "Fold: 2, f1-Score-valid: 0.576271186440678\n",
      "Fold: 3, f1-Score-train: 0.5654405474764755\n",
      "Fold: 3, f1-Score-valid: 0.5448154657293497\n"
     ]
    },
    {
     "name": "stderr",
     "output_type": "stream",
     "text": [
      "\u001b[32m[I 2021-12-14 09:30:11,007]\u001b[0m Trial 6 finished with value: 0.001047979763173279 and parameters: {'objective': 'binary', 'boosting_type': 'gbdt', 'num_leaves': 26, 'max_depth': 72, 'learning_rate': 0.341, 'n_estimators': 29, 'reg_alpha': 26.0082644485212, 'reg_lambda': 9.788490162559917, 'subsample': 0.23, 'subsample_freq': 18, 'colsample_bytree': 0.37, 'min_child_samples': 5, 'min_child_weight': 7}. Best is trial 1 with value: 0.0.\u001b[0m\n"
     ]
    },
    {
     "name": "stdout",
     "output_type": "stream",
     "text": [
      "Fold: 4, f1-Score-train: 0.5542617605961806\n",
      "Fold: 4, f1-Score-valid: 0.5708955223880596\n",
      "Fold: 0, f1-Score-train: 0.6754684838160137\n",
      "Fold: 0, f1-Score-valid: 0.6644628099173553\n",
      "Fold: 1, f1-Score-train: 0.6669538991813874\n",
      "Fold: 1, f1-Score-valid: 0.6654867256637168\n",
      "Fold: 2, f1-Score-train: 0.664069264069264\n",
      "Fold: 2, f1-Score-valid: 0.6808510638297872\n",
      "Fold: 3, f1-Score-train: 0.6681280140289347\n",
      "Fold: 3, f1-Score-valid: 0.624087591240876\n"
     ]
    },
    {
     "name": "stderr",
     "output_type": "stream",
     "text": [
      "\u001b[32m[I 2021-12-14 09:30:12,313]\u001b[0m Trial 7 finished with value: 0.009738477979066684 and parameters: {'objective': 'binary', 'boosting_type': 'gbdt', 'num_leaves': 14, 'max_depth': 76, 'learning_rate': 0.451, 'n_estimators': 325, 'reg_alpha': 15.765100896455968, 'reg_lambda': 5.3296625153379225, 'subsample': 0.31, 'subsample_freq': 11, 'colsample_bytree': 0.39, 'min_child_samples': 17, 'min_child_weight': 39}. Best is trial 1 with value: 0.0.\u001b[0m\n"
     ]
    },
    {
     "name": "stdout",
     "output_type": "stream",
     "text": [
      "Fold: 4, f1-Score-train: 0.6479500891265597\n",
      "Fold: 4, f1-Score-valid: 0.6389891696750902\n",
      "Fold: 0, f1-Score-train: 0.0\n",
      "Fold: 0, f1-Score-valid: 0.0\n",
      "Fold: 1, f1-Score-train: 0.0\n",
      "Fold: 1, f1-Score-valid: 0.0\n",
      "Fold: 2, f1-Score-train: 0.0\n",
      "Fold: 2, f1-Score-valid: 0.0\n"
     ]
    },
    {
     "name": "stderr",
     "output_type": "stream",
     "text": [
      "\u001b[32m[I 2021-12-14 09:30:13,103]\u001b[0m Trial 8 finished with value: 0.0 and parameters: {'objective': 'binary', 'boosting_type': 'gbdt', 'num_leaves': 73, 'max_depth': 8, 'learning_rate': 0.251, 'n_estimators': 1532, 'reg_alpha': 22.564704638747262, 'reg_lambda': 1.1438857198508958, 'subsample': 0.04, 'subsample_freq': 20, 'colsample_bytree': 0.8, 'min_child_samples': 66, 'min_child_weight': 47}. Best is trial 1 with value: 0.0.\u001b[0m\n"
     ]
    },
    {
     "name": "stdout",
     "output_type": "stream",
     "text": [
      "Fold: 3, f1-Score-train: 0.0\n",
      "Fold: 3, f1-Score-valid: 0.0\n",
      "Fold: 4, f1-Score-train: 0.0\n",
      "Fold: 4, f1-Score-valid: 0.0\n",
      "Fold: 0, f1-Score-train: 0.6732605729877216\n",
      "Fold: 0, f1-Score-valid: 0.6729475100942127\n",
      "Fold: 1, f1-Score-train: 0.6775732788002726\n",
      "Fold: 1, f1-Score-valid: 0.6759388038942977\n",
      "Fold: 2, f1-Score-train: 0.6748549982940977\n",
      "Fold: 2, f1-Score-valid: 0.6763540290620872\n",
      "Fold: 3, f1-Score-train: 0.6809232858112695\n",
      "Fold: 3, f1-Score-valid: 0.6501377410468319\n"
     ]
    },
    {
     "name": "stderr",
     "output_type": "stream",
     "text": [
      "\u001b[32m[I 2021-12-14 09:30:15,406]\u001b[0m Trial 9 finished with value: 0.002569261142603696 and parameters: {'objective': 'binary', 'boosting_type': 'gbdt', 'num_leaves': 5, 'max_depth': 99, 'learning_rate': 0.261, 'n_estimators': 667, 'reg_alpha': 22.921097059670963, 'reg_lambda': 3.125899064451485, 'subsample': 0.43, 'subsample_freq': 16, 'colsample_bytree': 0.060000000000000005, 'min_child_samples': 47, 'min_child_weight': 27}. Best is trial 1 with value: 0.0.\u001b[0m\n"
     ]
    },
    {
     "name": "stdout",
     "output_type": "stream",
     "text": [
      "Fold: 4, f1-Score-train: 0.6711726934775262\n",
      "Fold: 4, f1-Score-valid: 0.6895604395604396\n"
     ]
    }
   ],
   "source": [
    "def objective(trial):\n",
    "    scores_valid = []\n",
    "    scores_train = [] \n",
    "    for fold in range(5):\n",
    "      xtrain =  df_train[df_train.kfold != fold].reset_index(drop=True)\n",
    "      xvalid = df_train[df_train.kfold == fold].reset_index(drop=True)\n",
    "\n",
    "      ytrain = xtrain.Revenue\n",
    "      yvalid = xvalid.Revenue\n",
    "      \n",
    "      xtrain = xtrain[useful_cols]\n",
    "      xvalid = xvalid[useful_cols]\n",
    "\n",
    "      xtrain[numerical] = scaler.fit_transform(xtrain[numerical])\n",
    "      xvalid[numerical] = scaler.transform(xvalid[numerical])\n",
    " \n",
    "      param = {\"objective\": trial.suggest_categorical(\"objective\", ['binary']),\n",
    "                    \"boosting_type\": trial.suggest_categorical(\"boosting_type\", ['gbdt']),\n",
    "                    \"num_leaves\": trial.suggest_int(\"num_leaves\", 5, 100),\n",
    "                    \"max_depth\": trial.suggest_int(\"max_depth\", 5, 100),\n",
    "                    \"learning_rate\": trial.suggest_float(\"learning_rate\", 0.001, 0.5, step=0.01),\n",
    "                    \"n_estimators\": trial.suggest_int(\"n_estimators\", 20,2000),        \n",
    "                    \"reg_alpha\": trial.suggest_float(\"reg_alpha\", 0.001, 40.0),\n",
    "                    \"reg_lambda\": trial.suggest_float(\"reg_lambda\", 0.001, 10.0),\n",
    "                    # \"random_state\": trial.suggest_categorical(\"random_state\", [24]),\n",
    "                    # \"bagging_seed\": trial.suggest_categorical(\"bagging_seed\", [24]),\n",
    "                    # \"feature_fraction_seed\": trial.suggest_categorical(\"feature_fraction_seed\", [24]), \n",
    "                    # \"n_jobs\": trial.suggest_categorical(\"n_jobs\", [4]), \n",
    "                    \"subsample\": trial.suggest_float(\"subsample\",0.01, 0.5, step=0.01),\n",
    "                    \"subsample_freq\": trial.suggest_int(\"subsample_freq\", 3, 20),\n",
    "                    \"colsample_bytree\": trial.suggest_float(\"colsample_bytree\", 0.01, 0.9, step=0.01),\n",
    "                    # \"device_type\": trial.suggest_categorical(\"device_type\", [\"GPU\"]),\n",
    "                    'min_child_samples': trial.suggest_int('min_child_samples', 5, 70),\n",
    "                    'min_child_weight': trial.suggest_int('min_child_weight', 5,70)}\n",
    "\n",
    "      model = LGBMClassifier(**param)\n",
    "      model.fit(xtrain, ytrain,\n",
    "              eval_set=[(xvalid, yvalid)],\n",
    "              eval_metric=\"f1\",\n",
    "              early_stopping_rounds=50,\n",
    "              verbose=False)\n",
    "\n",
    "\n",
    "      # Predictions and Evaluation\n",
    "      preds_train = model.predict(xtrain) \n",
    "      preds_valid = model.predict(xvalid)\n",
    "      f1_score_train = metrics.f1_score(ytrain, preds_train)\n",
    "      f1_score_valid = metrics.f1_score(yvalid, preds_valid)               \n",
    "      print(f\"Fold: {fold}, f1-Score-train: {f1_score_train}\")\n",
    "      print(f\"Fold: {fold}, f1-Score-valid: {f1_score_valid}\")\n",
    "      scores_valid.append(f1_score_valid)\n",
    "      scores_train.append(f1_score_train)\n",
    "    return np.mean(scores_train) - np.mean(scores_valid)\n",
    "study = optuna.create_study(direction='minimize')                        \n",
    "study.optimize(objective, n_trials=10)                                      \n"
   ]
  },
  {
   "cell_type": "code",
   "execution_count": null,
   "metadata": {
    "colab": {
     "base_uri": "https://localhost:8080/"
    },
    "id": "qvlM0dt0QEuW",
    "outputId": "49a33eeb-55fa-40a8-b01c-34dfdaba5f87"
   },
   "outputs": [
    {
     "name": "stdout",
     "output_type": "stream",
     "text": [
      "Fold 0 f1-score-train:  0.646354733405876\n",
      "Fold 0 f1-score-Valid:  0.6341463414634146\n",
      "Fold 1 f1-score-train:  0.6523143164693219\n",
      "Fold 1 f1-score-Valid:  0.6455981941309256\n",
      "Fold 2 f1-score-train:  0.6307007786429365\n",
      "Fold 2 f1-score-Valid:  0.6476578411405296\n",
      "Fold 3 f1-score-train:  0.6627721720658525\n",
      "Fold 3 f1-score-Valid:  0.6285714285714286\n",
      "Fold 4 f1-score-train:  0.666322846828262\n",
      "Fold 4 f1-score-Valid:  0.6581740976645436\n",
      "0.6516929694824498 0.012699109840988555\n",
      "0.6428295805941684 0.010441504353759687\n"
     ]
    }
   ],
   "source": [
    "scores_train = []\n",
    "scores_valid = []\n",
    "final_test_predictions = []\n",
    "for fold in range(5):\n",
    "  xtrain =  df_train[df_train.kfold != fold].reset_index(drop=True)\n",
    "  xvalid = df_train[df_train.kfold == fold].reset_index(drop=True)\n",
    "  xtest = df_test.copy()\n",
    "\n",
    "  ytrain = xtrain.Revenue\n",
    "  yvalid = xvalid.Revenue\n",
    "  \n",
    "  \n",
    "  xtrain = xtrain[useful_cols]\n",
    "  xvalid = xvalid[useful_cols]\n",
    "  xtest = xtest[useful_cols]\n",
    "\n",
    "  xtrain[numerical] = scaler.fit_transform(xtrain[numerical])\n",
    "  xvalid[numerical] = scaler.transform(xvalid[numerical])\n",
    "  xtest[numerical] = scaler.transform(xtest[numerical])\n",
    "\n",
    "  params = {'objective': 'binary', 'boosting_type': 'gbdt', 'num_leaves': 47, 'max_depth': 17, 'learning_rate': 0.331,\n",
    "            'n_estimators': 469, 'reg_alpha': 30.654408167803027, 'reg_lambda': 8.742258358130245,\n",
    "            'subsample': 0.45, 'subsample_freq': 9, 'colsample_bytree': 0.49, 'min_child_samples': 26, 'min_child_weight': 32}\n",
    "\n",
    "  model = LGBMClassifier(**params)\n",
    "  model.fit(xtrain, ytrain,\n",
    "          eval_set=[(xvalid, yvalid)],\n",
    "          # eval_metric=\"f1\",\n",
    "          early_stopping_rounds=50,\n",
    "          verbose=False)\n",
    "\n",
    "  preds_valid = model.predict(xvalid)\n",
    "  preds_train = model.predict(xtrain)\n",
    "  test_preds = model.predict(xtest)  \n",
    "  final_test_predictions.append(test_preds)\n",
    "  f1_score_valid = metrics.f1_score(yvalid, preds_valid)\n",
    "  f1_score_train = metrics.f1_score(ytrain, preds_train)\n",
    "  print(f'Fold {fold} f1-score-train: ', f1_score_train)\n",
    "  print(f'Fold {fold} f1-score-Valid: ', f1_score_valid)\n",
    "  scores_train.append(f1_score_train)\n",
    "  scores_valid.append(f1_score_valid)\n",
    "    \n",
    "print(np.mean(scores_train), np.std(scores_train))\n",
    "print(np.mean(scores_valid), np.std(scores_valid))"
   ]
  },
  {
   "cell_type": "markdown",
   "metadata": {
    "id": "4c5Byafr-1Xp"
   },
   "source": [
    "### **Model-4: BaggingClassifier**"
   ]
  },
  {
   "cell_type": "code",
   "execution_count": null,
   "metadata": {
    "colab": {
     "base_uri": "https://localhost:8080/"
    },
    "id": "DpIxMJKSSQZc",
    "outputId": "2e0cec27-562a-4b47-b73f-45c41f03b816"
   },
   "outputs": [
    {
     "name": "stderr",
     "output_type": "stream",
     "text": [
      "\u001b[32m[I 2021-12-14 09:33:17,747]\u001b[0m A new study created in memory with name: no-name-cca09199-1500-4e6c-b032-c3b84bdd6d46\u001b[0m\n"
     ]
    },
    {
     "name": "stdout",
     "output_type": "stream",
     "text": [
      "Fold: 0, f1-Score-train: 0.6386554621848739\n",
      "Fold: 0, f1-Score-valid: 0.6254295532646047\n",
      "Fold: 1, f1-Score-train: 0.6411238825031929\n",
      "Fold: 1, f1-Score-valid: 0.6537785588752196\n",
      "Fold: 2, f1-Score-train: 0.6424242424242426\n",
      "Fold: 2, f1-Score-valid: 0.6533996683250415\n",
      "Fold: 3, f1-Score-train: 0.652265988987717\n",
      "Fold: 3, f1-Score-valid: 0.6172839506172839\n"
     ]
    },
    {
     "name": "stderr",
     "output_type": "stream",
     "text": [
      "\u001b[32m[I 2021-12-14 09:33:35,635]\u001b[0m Trial 0 finished with value: 0.003588766098660656 and parameters: {'n_estimators': 660, 'max_samples': 37}. Best is trial 0 with value: 0.003588766098660656.\u001b[0m\n"
     ]
    },
    {
     "name": "stdout",
     "output_type": "stream",
     "text": [
      "Fold: 4, f1-Score-train: 0.6425806451612903\n",
      "Fold: 4, f1-Score-valid: 0.6492146596858639\n",
      "Fold: 0, f1-Score-train: 0.637136465324385\n",
      "Fold: 0, f1-Score-valid: 0.6180555555555556\n",
      "Fold: 1, f1-Score-train: 0.638533674339301\n",
      "Fold: 1, f1-Score-valid: 0.6537102473498233\n",
      "Fold: 2, f1-Score-train: 0.6437473141383756\n",
      "Fold: 2, f1-Score-valid: 0.65016501650165\n",
      "Fold: 3, f1-Score-train: 0.6534066864155734\n",
      "Fold: 3, f1-Score-valid: 0.6197183098591549\n"
     ]
    },
    {
     "name": "stderr",
     "output_type": "stream",
     "text": [
      "\u001b[32m[I 2021-12-14 09:33:51,744]\u001b[0m Trial 1 finished with value: 0.0048564795183294596 and parameters: {'n_estimators': 569, 'max_samples': 38}. Best is trial 0 with value: 0.003588766098660656.\u001b[0m\n"
     ]
    },
    {
     "name": "stdout",
     "output_type": "stream",
     "text": [
      "Fold: 4, f1-Score-train: 0.6444348202685146\n",
      "Fold: 4, f1-Score-valid: 0.6513274336283186\n",
      "Fold: 0, f1-Score-train: 0.6375\n",
      "Fold: 0, f1-Score-valid: 0.615916955017301\n",
      "Fold: 1, f1-Score-train: 0.6429184549356224\n",
      "Fold: 1, f1-Score-valid: 0.6571936056838367\n",
      "Fold: 2, f1-Score-train: 0.6473840918757975\n",
      "Fold: 2, f1-Score-valid: 0.659016393442623\n",
      "Fold: 3, f1-Score-train: 0.6530785562632696\n",
      "Fold: 3, f1-Score-valid: 0.618374558303887\n"
     ]
    },
    {
     "name": "stderr",
     "output_type": "stream",
     "text": [
      "\u001b[32m[I 2021-12-14 09:34:08,226]\u001b[0m Trial 2 finished with value: 0.00374674446513934 and parameters: {'n_estimators': 562, 'max_samples': 46}. Best is trial 0 with value: 0.003588766098660656.\u001b[0m\n"
     ]
    },
    {
     "name": "stdout",
     "output_type": "stream",
     "text": [
      "Fold: 4, f1-Score-train: 0.646804835924007\n",
      "Fold: 4, f1-Score-valid: 0.658450704225352\n",
      "Fold: 0, f1-Score-train: 0.6388642413487133\n",
      "Fold: 0, f1-Score-valid: 0.6230636833046471\n",
      "Fold: 1, f1-Score-train: 0.6385904598195102\n",
      "Fold: 1, f1-Score-valid: 0.6524822695035463\n",
      "Fold: 2, f1-Score-train: 0.6464300983326208\n",
      "Fold: 2, f1-Score-valid: 0.6534653465346535\n",
      "Fold: 3, f1-Score-train: 0.6494277236116999\n",
      "Fold: 3, f1-Score-valid: 0.6134751773049644\n"
     ]
    },
    {
     "name": "stderr",
     "output_type": "stream",
     "text": [
      "\u001b[32m[I 2021-12-14 09:34:23,488]\u001b[0m Trial 3 finished with value: 0.004079980817153772 and parameters: {'n_estimators': 547, 'max_samples': 37}. Best is trial 0 with value: 0.003588766098660656.\u001b[0m\n"
     ]
    },
    {
     "name": "stdout",
     "output_type": "stream",
     "text": [
      "Fold: 4, f1-Score-train: 0.645877829987185\n",
      "Fold: 4, f1-Score-valid: 0.6563039723661487\n",
      "Fold: 0, f1-Score-train: 0.6389380530973451\n",
      "Fold: 0, f1-Score-valid: 0.62778730703259\n",
      "Fold: 1, f1-Score-train: 0.6241134751773049\n",
      "Fold: 1, f1-Score-valid: 0.656934306569343\n",
      "Fold: 2, f1-Score-train: 0.6384648931530746\n",
      "Fold: 2, f1-Score-valid: 0.6533333333333333\n",
      "Fold: 3, f1-Score-train: 0.6543624161073825\n",
      "Fold: 3, f1-Score-valid: 0.6223776223776225\n"
     ]
    },
    {
     "name": "stderr",
     "output_type": "stream",
     "text": [
      "\u001b[32m[I 2021-12-14 09:34:38,019]\u001b[0m Trial 4 finished with value: -0.0017015677981319088 and parameters: {'n_estimators': 533, 'max_samples': 32}. Best is trial 4 with value: -0.0017015677981319088.\u001b[0m\n"
     ]
    },
    {
     "name": "stdout",
     "output_type": "stream",
     "text": [
      "Fold: 4, f1-Score-train: 0.6407599309153714\n",
      "Fold: 4, f1-Score-valid: 0.6447140381282496\n",
      "Fold: 0, f1-Score-train: 0.6494178525226392\n",
      "Fold: 0, f1-Score-valid: 0.6375838926174496\n",
      "Fold: 1, f1-Score-train: 0.6407263294422827\n",
      "Fold: 1, f1-Score-valid: 0.657142857142857\n",
      "Fold: 2, f1-Score-train: 0.6443478260869565\n",
      "Fold: 2, f1-Score-valid: 0.6566164154103853\n",
      "Fold: 3, f1-Score-train: 0.6551433389544687\n",
      "Fold: 3, f1-Score-valid: 0.618629173989455\n"
     ]
    },
    {
     "name": "stderr",
     "output_type": "stream",
     "text": [
      "\u001b[32m[I 2021-12-14 09:35:05,642]\u001b[0m Trial 5 finished with value: 0.0034866978096215195 and parameters: {'n_estimators': 981, 'max_samples': 43}. Best is trial 4 with value: -0.0017015677981319088.\u001b[0m\n"
     ]
    },
    {
     "name": "stdout",
     "output_type": "stream",
     "text": [
      "Fold: 4, f1-Score-train: 0.6420182688125272\n",
      "Fold: 4, f1-Score-valid: 0.6442477876106195\n",
      "Fold: 0, f1-Score-train: 0.6340160284951024\n",
      "Fold: 0, f1-Score-valid: 0.6252158894645942\n",
      "Fold: 1, f1-Score-train: 0.6261558784676354\n",
      "Fold: 1, f1-Score-valid: 0.6498194945848376\n",
      "Fold: 2, f1-Score-train: 0.6388888888888888\n",
      "Fold: 2, f1-Score-valid: 0.6478405315614618\n",
      "Fold: 3, f1-Score-train: 0.6517328825021133\n",
      "Fold: 3, f1-Score-valid: 0.6123893805309735\n"
     ]
    },
    {
     "name": "stderr",
     "output_type": "stream",
     "text": [
      "\u001b[32m[I 2021-12-14 09:35:22,309]\u001b[0m Trial 6 finished with value: 0.003321168254306728 and parameters: {'n_estimators': 584, 'max_samples': 31}. Best is trial 4 with value: -0.0017015677981319088.\u001b[0m\n"
     ]
    },
    {
     "name": "stdout",
     "output_type": "stream",
     "text": [
      "Fold: 4, f1-Score-train: 0.6300527240773286\n",
      "Fold: 4, f1-Score-valid: 0.6289752650176679\n",
      "Fold: 0, f1-Score-train: 0.6417445482866044\n",
      "Fold: 0, f1-Score-valid: 0.6193771626297577\n",
      "Fold: 1, f1-Score-train: 0.6470838654746701\n",
      "Fold: 1, f1-Score-valid: 0.6655052264808362\n",
      "Fold: 2, f1-Score-train: 0.6472851646002565\n",
      "Fold: 2, f1-Score-valid: 0.6600985221674878\n",
      "Fold: 3, f1-Score-train: 0.6542530681337283\n",
      "Fold: 3, f1-Score-valid: 0.6232394366197183\n"
     ]
    },
    {
     "name": "stderr",
     "output_type": "stream",
     "text": [
      "\u001b[32m[I 2021-12-14 09:35:40,302]\u001b[0m Trial 7 finished with value: 0.002531123916723499 and parameters: {'n_estimators': 631, 'max_samples': 48}. Best is trial 4 with value: -0.0017015677981319088.\u001b[0m\n"
     ]
    },
    {
     "name": "stdout",
     "output_type": "stream",
     "text": [
      "Fold: 4, f1-Score-train: 0.6454388984509466\n",
      "Fold: 4, f1-Score-valid: 0.6549295774647887\n",
      "Fold: 0, f1-Score-train: 0.6435164835164835\n",
      "Fold: 0, f1-Score-valid: 0.6247877758913413\n",
      "Fold: 1, f1-Score-train: 0.6414770287677115\n",
      "Fold: 1, f1-Score-valid: 0.658450704225352\n",
      "Fold: 2, f1-Score-train: 0.6509635974304068\n",
      "Fold: 2, f1-Score-valid: 0.6567656765676567\n",
      "Fold: 3, f1-Score-train: 0.6544836379090523\n",
      "Fold: 3, f1-Score-valid: 0.6172839506172839\n"
     ]
    },
    {
     "name": "stderr",
     "output_type": "stream",
     "text": [
      "\u001b[32m[I 2021-12-14 09:36:02,408]\u001b[0m Trial 8 finished with value: 0.002991477285005817 and parameters: {'n_estimators': 741, 'max_samples': 45}. Best is trial 4 with value: -0.0017015677981319088.\u001b[0m\n"
     ]
    },
    {
     "name": "stdout",
     "output_type": "stream",
     "text": [
      "Fold: 4, f1-Score-train: 0.6378331148973351\n",
      "Fold: 4, f1-Score-valid: 0.6560283687943262\n",
      "Fold: 0, f1-Score-train: 0.6364444444444444\n",
      "Fold: 0, f1-Score-valid: 0.6313993174061434\n",
      "Fold: 1, f1-Score-train: 0.6366782006920415\n",
      "Fold: 1, f1-Score-valid: 0.658273381294964\n",
      "Fold: 2, f1-Score-train: 0.642146257031588\n",
      "Fold: 2, f1-Score-valid: 0.6534653465346535\n",
      "Fold: 3, f1-Score-train: 0.6536502546689305\n",
      "Fold: 3, f1-Score-valid: 0.61101243339254\n"
     ]
    },
    {
     "name": "stderr",
     "output_type": "stream",
     "text": [
      "\u001b[32m[I 2021-12-14 09:36:24,567]\u001b[0m Trial 9 finished with value: 0.001656237087323098 and parameters: {'n_estimators': 788, 'max_samples': 34}. Best is trial 4 with value: -0.0017015677981319088.\u001b[0m\n"
     ]
    },
    {
     "name": "stdout",
     "output_type": "stream",
     "text": [
      "Fold: 4, f1-Score-train: 0.6340819022457067\n",
      "Fold: 4, f1-Score-valid: 0.6405693950177936\n"
     ]
    }
   ],
   "source": [
    "# %%time\n",
    "# X_train, X_test, y_train, y_test = train_test_split(X_res,y_res, test_size = 0.2, random_state=22)\n",
    "def objective(trial):\n",
    "    scores_valid = [] \n",
    "    scores_train = []\n",
    "    for fold in range(5):\n",
    "      xtrain =  df_train[df_train.kfold != fold].reset_index(drop=True)\n",
    "      xvalid = df_train[df_train.kfold == fold].reset_index(drop=True)\n",
    "      \n",
    "      valid_ids = xvalid.id.values.tolist()\n",
    "\n",
    "      ytrain = xtrain.Revenue\n",
    "      yvalid = xvalid.Revenue\n",
    "      \n",
    "      xtrain = xtrain[useful_cols]\n",
    "      xvalid = xvalid[useful_cols]\n",
    "\n",
    "      xtrain[numerical] = scaler.fit_transform(xtrain[numerical])\n",
    "      xvalid[numerical] = scaler.transform(xvalid[numerical])\n",
    "      params = {'n_estimators': trial.suggest_int('n_estimators', 500, 1000),\n",
    "        'max_samples' : trial.suggest_int('max_samples',30, 50)}\n",
    "      \n",
    "      model = BaggingClassifier(**params, random_state=7)\n",
    "      model.fit(xtrain,ytrain)                                                      \n",
    "\n",
    "      # Predictions and Evaluation\n",
    "      preds_train = model.predict(xtrain) \n",
    "      preds_valid = model.predict(xvalid)                              \n",
    "      f1_score_train = metrics.f1_score(ytrain, preds_train)\n",
    "      f1_score_valid = metrics.f1_score(yvalid, preds_valid)                    \n",
    "      print(f\"Fold: {fold}, f1-Score-train: {f1_score_train}\")\n",
    "      print(f\"Fold: {fold}, f1-Score-valid: {f1_score_valid}\")\n",
    "      scores_valid.append(f1_score_valid)\n",
    "      scores_train.append(f1_score_train)\n",
    "    return np.mean(scores_train) - np.mean(scores_valid)\n",
    "study_rf = optuna.create_study(direction='minimize')                             \n",
    "study_rf.optimize(objective, n_trials=10)                                        \n"
   ]
  },
  {
   "cell_type": "code",
   "execution_count": null,
   "metadata": {
    "colab": {
     "base_uri": "https://localhost:8080/"
    },
    "id": "pDQTYUasd25N",
    "outputId": "135e8c05-19a1-4e41-b757-f594c556dff5"
   },
   "outputs": [
    {
     "name": "stdout",
     "output_type": "stream",
     "text": [
      "Fold 0 f1-score-train:  0.6389380530973451\n",
      "Fold 0 f1-score-Valid:  0.62778730703259\n",
      "Fold 1 f1-score-train:  0.6241134751773049\n",
      "Fold 1 f1-score-Valid:  0.656934306569343\n",
      "Fold 2 f1-score-train:  0.6384648931530746\n",
      "Fold 2 f1-score-Valid:  0.6533333333333333\n",
      "Fold 3 f1-score-train:  0.6543624161073825\n",
      "Fold 3 f1-score-Valid:  0.6223776223776225\n",
      "Fold 4 f1-score-train:  0.6407599309153714\n",
      "Fold 4 f1-score-Valid:  0.6447140381282496\n",
      "0.6393277536900958 0.009596487598381852\n",
      "0.6410293214882277 0.013719848550097944\n"
     ]
    }
   ],
   "source": [
    "scores_train = []\n",
    "scores_valid = []\n",
    "for fold in range(5):\n",
    "  xtrain =  df_train[df_train.kfold != fold].reset_index(drop=True)\n",
    "  xvalid = df_train[df_train.kfold == fold].reset_index(drop=True)\n",
    "  \n",
    "  valid_ids = xvalid.id.values.tolist()\n",
    "\n",
    "  ytrain = xtrain.Revenue\n",
    "  yvalid = xvalid.Revenue\n",
    "  \n",
    "  xtrain = xtrain[useful_cols]\n",
    "  xvalid = xvalid[useful_cols]\n",
    "\n",
    "\n",
    "  xtrain[numerical] = scaler.fit_transform(xtrain[numerical])\n",
    "  xvalid[numerical] = scaler.transform(xvalid[numerical])\n",
    "  xtest[numerical] = scaler.transform(xtest[numerical])\n",
    "\n",
    "  params = {'n_estimators': 533, 'max_samples': 32}\n",
    "\n",
    "  model = BaggingClassifier(**params, random_state=7)\n",
    "  model.fit(xtrain,ytrain)\n",
    "\n",
    "  preds_valid = model.predict(xvalid)\n",
    "  preds_train = model.predict(xtrain) \n",
    "  f1_score_valid = metrics.f1_score(yvalid, preds_valid)\n",
    "  f1_score_train = metrics.f1_score(ytrain, preds_train)\n",
    "  print(f'Fold {fold} f1-score-train: ', f1_score_train)\n",
    "  print(f'Fold {fold} f1-score-Valid: ', f1_score_valid)\n",
    "  scores_train.append(f1_score_train)\n",
    "  scores_valid.append(f1_score_valid)\n",
    "    \n",
    "print(np.mean(scores_train), np.std(scores_train))\n",
    "print(np.mean(scores_valid), np.std(scores_valid))"
   ]
  },
  {
   "cell_type": "markdown",
   "metadata": {
    "id": "OBSaec0m_a5d"
   },
   "source": [
    "#### **Setting Models and Parameters for Voting Classifier**"
   ]
  },
  {
   "cell_type": "code",
   "execution_count": null,
   "metadata": {
    "id": "nVIOjLghXlYg"
   },
   "outputs": [],
   "source": [
    "params_bg = {'n_estimators': 533, 'max_samples': 32}\n",
    "model_bg = BaggingClassifier(**params_bg, random_state=7)\n",
    "\n",
    "params_lgb = {'objective': 'binary', 'boosting_type': 'gbdt', 'num_leaves': 47, 'max_depth': 17, 'learning_rate': 0.331,\n",
    "            'n_estimators': 469, 'reg_alpha': 30.654408167803027, 'reg_lambda': 8.742258358130245,\n",
    "            'subsample': 0.45, 'subsample_freq': 9, 'colsample_bytree': 0.49, 'min_child_samples': 26, 'min_child_weight': 32}\n",
    "model_lgb = LGBMClassifier(**params_lgb, random_state=6)\n",
    "\n",
    "\n",
    "params_mlp = {'alpha': 0.09631013728513668, 'hidden_layer_sizes': 7, 'max_iter': 30}\n",
    "model_mlp= MLPClassifier(**params_mlp,random_state=17,tol=1e-4)\n",
    "\n",
    "\n",
    "params_dt = {'max_leaf_nodes': 6, 'max_depth': 254, 'criterion': 'entropy', 'class_weight': 'balanced'}\n",
    "\n",
    "model_dt = DecisionTreeClassifier(**params_dt, random_state=42)\n"
   ]
  },
  {
   "cell_type": "markdown",
   "metadata": {
    "id": "ryvgQYas_hTt"
   },
   "source": [
    "### **Final Model: Voting Classifier**"
   ]
  },
  {
   "cell_type": "code",
   "execution_count": null,
   "metadata": {
    "colab": {
     "base_uri": "https://localhost:8080/"
    },
    "id": "WHYtFm8kf9tY",
    "outputId": "7282adbb-2fe8-47a5-e813-1f30352003b2"
   },
   "outputs": [
    {
     "name": "stdout",
     "output_type": "stream",
     "text": [
      "Training Acc for fold: 0: 0.9016601191230516\n",
      "Validation Acc for fold: 0: 0.8991383679675621\n",
      "Fold 0 f1-score-train:  0.6672384219554032\n",
      "Fold 0 f1-score-Valid:  0.6666666666666665\n",
      "Training Acc for fold: 1: 0.8996324927132175\n",
      "Validation Acc for fold: 1: 0.9016725798276736\n",
      "Fold 1 f1-score-train:  0.6541484716157204\n",
      "Fold 1 f1-score-Valid:  0.6523297491039427\n",
      "Training Acc for fold: 2: 0.8987454061589152\n",
      "Validation Acc for fold: 2: 0.8966041561074506\n",
      "Fold 2 f1-score-train:  0.6575225032147451\n",
      "Fold 2 f1-score-Valid:  0.6709677419354839\n",
      "Training Acc for fold: 3: 0.9000126726650615\n",
      "Validation Acc for fold: 3: 0.8920425747592499\n",
      "Fold 3 f1-score-train:  0.6697362913352868\n",
      "Fold 3 f1-score-Valid:  0.6243386243386243\n",
      "Training Acc for fold: 4: 0.8992650785605677\n",
      "Validation Acc for fold: 4: 0.902129817444219\n",
      "Fold 4 f1-score-train:  0.6550976138828633\n",
      "Fold 4 f1-score-Valid:  0.6608084358523726\n",
      "0.6607486604008038 0.006462188851865252\n",
      "0.655022243579418 0.01656541906558489\n"
     ]
    }
   ],
   "source": [
    "scores_train = []\n",
    "scores_valid = []\n",
    "for fold in range(5):\n",
    "  xtrain =  df_train[df_train.kfold != fold].reset_index(drop=True)\n",
    "  xvalid = df_train[df_train.kfold == fold].reset_index(drop=True)\n",
    "  xtest = df_test.copy()\n",
    "\n",
    "  ytrain = xtrain.Revenue\n",
    "  yvalid = xvalid.Revenue\n",
    "  \n",
    "  \n",
    "  xtrain = xtrain[useful_cols]\n",
    "  xvalid = xvalid[useful_cols]\n",
    "  xtest = xtest[useful_cols]\n",
    "\n",
    "  xtrain[numerical] = scaler.fit_transform(xtrain[numerical])\n",
    "  xvalid[numerical] = scaler.transform(xvalid[numerical])\n",
    "  xtest[numerical] = scaler.transform(xtest[numerical])\n",
    "\n",
    "  model_vclf = VotingClassifier(estimators=[ ('BaggingClassifier', model_bg),      \n",
    "                                              ('LightGBM', model_lgb), \n",
    "                                              ('MLPClassifier', model_mlp),\n",
    "                                              ('DecisionTree', model_dt)\n",
    "                                              ],\n",
    "                                                voting='hard') \n",
    "  model_vclf.fit(xtrain,ytrain)\n",
    "\n",
    "  preds_valid = model_vclf.predict(xvalid)\n",
    "  preds_train = model_vclf.predict(xtrain)\n",
    "  f1_score_valid = metrics.f1_score(yvalid, preds_valid)\n",
    "  f1_score_train = metrics.f1_score(ytrain, preds_train)\n",
    "  print(f\"Training Acc for fold: {fold}: {model_vclf.score(xtrain,ytrain)}\")\n",
    "  print(f\"Validation Acc for fold: {fold}: {model_vclf.score(xvalid,yvalid)}\")\n",
    "  print(f'Fold {fold} f1-score-train: ', f1_score_train)\n",
    "  print(f'Fold {fold} f1-score-Valid: ', f1_score_valid)\n",
    "  scores_train.append(f1_score_train)\n",
    "  scores_valid.append(f1_score_valid)\n",
    "print(np.mean(scores_train), np.std(scores_train))   \n",
    "print(np.mean(scores_valid), np.std(scores_valid))"
   ]
  },
  {
   "cell_type": "markdown",
   "metadata": {
    "id": "M1KSVUKaUd6w"
   },
   "source": [
    "## **We can use the final model i.e. ``voting classifier`` for deployment as it has decent mean_f1-score and satisfactory standard deviation.**"
   ]
  },
  {
   "cell_type": "code",
   "execution_count": null,
   "metadata": {
    "colab": {
     "base_uri": "https://localhost:8080/"
    },
    "id": "wx8oK_WSWZdR",
    "outputId": "e955d16f-3a21-43a1-d3c8-89a4ead7cf40"
   },
   "outputs": [
    {
     "name": "stdout",
     "output_type": "stream",
     "text": [
      "the model is saved to model_bg.bin\n",
      "the model is saved to model_lgb.bin\n",
      "the model is saved to model_dt.bin\n",
      "the model is saved to model_mlp.bin\n",
      "the model is saved to model_vclf.bin\n"
     ]
    }
   ],
   "source": [
    "\"\"\"Save the Bagging CLF model\"\"\"\n",
    "output_file = f'model_bg.bin'\n",
    "\n",
    "with open(output_file, 'wb') as f_out:\n",
    "    pickle.dump(model_bg, f_out)\n",
    "\n",
    "print(f'the model is saved to {output_file}')\n",
    "\n",
    "\n",
    "\n",
    "\"\"\"Save the LGB model\"\"\"\n",
    "output_file = f'model_lgb.bin'\n",
    "\n",
    "with open(output_file, 'wb') as f_out:\n",
    "    pickle.dump(model_lgb, f_out)\n",
    "\n",
    "\n",
    "print(f'the model is saved to {output_file}')\n",
    "\n",
    "\n",
    "\n",
    "\"\"\"Save the DT model\"\"\"\n",
    "output_file = f'model_dt.bin'\n",
    "\n",
    "with open(output_file, 'wb') as f_out:\n",
    "    pickle.dump(model_dt, f_out)\n",
    "print(f'the model is saved to {output_file}')\n",
    "\n",
    "\n",
    "\n",
    "\"\"\"Save the MLP model\"\"\"\n",
    "output_file = f'model_mlp.bin'\n",
    "\n",
    "with open(output_file, 'wb') as f_out:\n",
    "    pickle.dump(model_mlp, f_out)\n",
    "print(f'the model is saved to {output_file}')\n",
    "\n",
    "\n",
    "\"\"\"Save the Voting CLF model\"\"\"\n",
    "output_file = f'model_vclf.bin'\n",
    "with open(output_file, 'wb') as f_out:\n",
    "    pickle.dump(model_vclf, f_out)\n",
    "print(f'the model is saved to {output_file}')"
   ]
  },
  {
   "cell_type": "code",
   "execution_count": null,
   "metadata": {
    "id": "d8SO3OBeW20i"
   },
   "outputs": [],
   "source": [
    "import pandas as pd\n",
    "import numpy as np\n",
    "from sklearn.preprocessing import PowerTransformer\n",
    "from sklearn import preprocessing\n",
    "import pickle"
   ]
  },
  {
   "cell_type": "code",
   "execution_count": null,
   "metadata": {
    "id": "ntLS8fjPYXjm"
   },
   "outputs": [],
   "source": [
    "model_file = 'model_bg.bin'\n",
    "\n",
    "with open(model_file, 'rb') as f_in:\n",
    "    model_bg = pickle.load(f_in)\n",
    "\n",
    "\n",
    "model_file = 'model_lgb.bin'\n",
    "with open(model_file, 'rb') as f_in:\n",
    "    model_lgb = pickle.load(f_in)\n",
    "\n",
    "\n",
    "model_file = 'model_dt.bin'\n",
    "with open(model_file, 'rb') as f_in:\n",
    "    model_dt = pickle.load(f_in)\n",
    "\n",
    "\n",
    "model_file = 'model_mlp.bin'\n",
    "with open(model_file, 'rb') as f_in:\n",
    "    model_mlp = pickle.load(f_in)\n",
    "\n",
    "\n",
    "model_file = 'model_vclf.bin'\n",
    "with open(model_file, 'rb') as f_in:\n",
    "    model_vclf = pickle.load(f_in)"
   ]
  },
  {
   "cell_type": "code",
   "execution_count": null,
   "metadata": {
    "id": "sth7rS1XaGaH"
   },
   "outputs": [],
   "source": [
    "def preprocess_train(df_train, y_train):\n",
    "  useful_cols = [col for col in df_train.columns if col not in ['id', 'Revenue', 'kfold']]\n",
    "  categorical = [col for col in useful_cols if df_train[col].dtype in ['object', 'bool']]\n",
    "  numerical = [col for col in useful_cols if col not in categorical]\n",
    "\n",
    "  # Label-Encoding boolean variable:\n",
    "  le = preprocessing.LabelEncoder()\n",
    "  df_train.Weekend = le.fit_transform(df_train.Weekend)\n",
    "\n",
    "  # OHE\n",
    "  dicts = df_train.to_dict(orient='records')\n",
    "  dv = DictVectorizer(sparse=False)\n",
    "  df_train = pd.DataFrame(dv.fit_transform(dicts),columns=list(dv.get_feature_names_out()))\n",
    "  columns = list(dv.get_feature_names_out())\n",
    "\n",
    "  # PT\n",
    "  pt = PowerTransformer()\n",
    "  pt_num_tr = pd.DataFrame(pt.fit_transform(df_train[columns]),columns=columns)\n",
    "  df_train = pd.concat([df_train.drop(columns, axis = 1),pt_num_tr],axis=1)\n",
    "\n",
    "  # Scaling\n",
    "  scaler= preprocessing.RobustScaler()\n",
    "  df_train = scaler.fit_transform(df_train)\n",
    "\n",
    "  # Models\n",
    "  params_bg = {'n_estimators': 533, 'max_samples': 32}\n",
    "  model_bg = BaggingClassifier(**params_bg, random_state=7)\n",
    "\n",
    "  params_lgb = {'objective': 'binary', 'boosting_type': 'gbdt', 'num_leaves': 47,\n",
    "                'max_depth': 17, 'learning_rate': 0.331,\n",
    "              'n_estimators': 469, 'reg_alpha': 30.654408167803027, 'reg_lambda': 8.742258358130245,\n",
    "              'subsample': 0.45, 'subsample_freq': 9,\n",
    "                'colsample_bytree': 0.49, 'min_child_samples': 26, 'min_child_weight': 32}\n",
    "  model_lgb = LGBMClassifier(**params_lgb, random_state=6)\n",
    "\n",
    "\n",
    "  params_mlp = {'alpha': 0.09631013728513668, 'hidden_layer_sizes': 7, 'max_iter': 30}\n",
    "  model_mlp= MLPClassifier(**params_mlp,random_state=17,tol=1e-4)\n",
    "\n",
    "\n",
    "  params_dt = {'max_leaf_nodes': 6, 'max_depth': 254, 'criterion': 'entropy', 'class_weight': 'balanced'}\n",
    "  model_dt = DecisionTreeClassifier(**params_dt, random_state=42)\n",
    "\n",
    "  # Final Model \n",
    "  model = VotingClassifier(estimators=[ ('BaggingClassifier', model_bg),      \n",
    "                                              ('LightGBM', model_lgb), \n",
    "                                              ('MLPClassifier', model_mlp),\n",
    "                                              ('DecisionTree', model_dt)],\n",
    "                                                voting='hard') \n",
    "  model.fit(df_train,y_train)\n",
    "\n",
    "  return le, dv, pt, scaler,model\n",
    "\n",
    "\n",
    "def predict(df,pt,scaler,dv, model):\n",
    "    df.Weekend = le.transform(df.Weekend)\n",
    "    dicts = df.to_dict(orient='records')\n",
    "    X = dv.transform(dicts)\n",
    "    X = pt.transform(X)\n",
    "    X = scaler.transform(X)\n",
    "    y_pred = model.predict(X)\n",
    "\n",
    "    return y_pred"
   ]
  },
  {
   "cell_type": "code",
   "execution_count": null,
   "metadata": {
    "colab": {
     "base_uri": "https://localhost:8080/"
    },
    "id": "F6SIfTZqqBUC",
    "outputId": "fc9d669e-b2b2-48ab-9601-c4988045d87a"
   },
   "outputs": [
    {
     "name": "stdout",
     "output_type": "stream",
     "text": [
      "[(0, 0), (0, 0), (0, 0), (0, 0), (1, 0), (0, 0), (0, 0), (0, 0), (0, 0), (0, 0), (0, 0), (1, 1), (0, 0), (0, 0), (0, 0), (0, 1), (0, 0), (0, 0), (0, 0), (1, 1)]\n"
     ]
    }
   ],
   "source": [
    "\"\"\"Trying out Model-Prediction on first 20 rows\"\"\"\n",
    "xtrain = df.drop('Revenue', axis = 1).copy()\n",
    "ytrain = df.Revenue.copy()\n",
    "le, dv, pt, scaler,model= preprocess_train(xtrain, ytrain)\n",
    "\n",
    "df_q = df.head(20)\n",
    "xtrain = df_q.drop(['Revenue', 'kfold'],axis = 1)\n",
    "ytrain = df_q.Revenue\n",
    "preds_train = predict(xtrain,pt,scaler, dv, model)\n",
    "print([(i,j) for i, j in zip(ytrain, preds_train)][:20])"
   ]
  }
 ],
 "metadata": {
  "colab": {
   "collapsed_sections": [],
   "name": "hyper-parameter_tuning_model-building.ipynb",
   "provenance": []
  },
  "kernelspec": {
   "display_name": "Python 3 (ipykernel)",
   "language": "python",
   "name": "python3"
  },
  "language_info": {
   "codemirror_mode": {
    "name": "ipython",
    "version": 3
   },
   "file_extension": ".py",
   "mimetype": "text/x-python",
   "name": "python",
   "nbconvert_exporter": "python",
   "pygments_lexer": "ipython3",
   "version": "3.8.12"
  }
 },
 "nbformat": 4,
 "nbformat_minor": 1
}
