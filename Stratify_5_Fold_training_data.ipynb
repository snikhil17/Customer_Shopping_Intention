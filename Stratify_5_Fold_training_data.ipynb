{
  "nbformat": 4,
  "nbformat_minor": 0,
  "metadata": {
    "colab": {
      "name": "Stratify_5_Fold_training_data.ipynb",
      "provenance": [],
      "collapsed_sections": []
    },
    "kernelspec": {
      "name": "python3",
      "display_name": "Python 3"
    },
    "language_info": {
      "name": "python"
    }
  },
  "cells": [
    {
      "cell_type": "markdown",
      "source": [
        "## **Importing core libraries**"
      ],
      "metadata": {
        "id": "abF9XKfdoYsw"
      }
    },
    {
      "cell_type": "code",
      "execution_count": null,
      "metadata": {
        "id": "n-UllFdWZSCb"
      },
      "outputs": [],
      "source": [
        "import numpy as np\n",
        "import pandas as pd\n",
        "from sklearn.model_selection import StratifiedKFold,KFold\n",
        "import warnings\n",
        "warnings.filterwarnings('ignore')"
      ]
    },
    {
      "cell_type": "markdown",
      "source": [
        "## **Loading data** "
      ],
      "metadata": {
        "id": "rbVpnQShodY4"
      }
    },
    {
      "cell_type": "code",
      "source": [
        "df_train = pd.read_csv(\"/content/training_data.csv\")"
      ],
      "metadata": {
        "id": "ORXt6q_6ZdCy"
      },
      "execution_count": null,
      "outputs": []
    },
    {
      "cell_type": "markdown",
      "source": [
        "## **Creating a new column called kfold** "
      ],
      "metadata": {
        "id": "GjmYrq6RoJG5"
      }
    },
    {
      "cell_type": "code",
      "source": [
        "df_train['kfold'] = -1\n",
        "\n",
        "# Preparing data as a tabular matrix\n",
        "y_train = df_train.Revenue\n",
        "X_train = df_train.drop('Revenue', axis=1)"
      ],
      "metadata": {
        "id": "BhYfgxGnZf5t"
      },
      "execution_count": null,
      "outputs": []
    },
    {
      "cell_type": "markdown",
      "source": [
        "## **Using Stratified-5-Fold to create folds**"
      ],
      "metadata": {
        "id": "DA7ChqkxoivB"
      }
    },
    {
      "cell_type": "code",
      "source": [
        "skf = StratifiedKFold(n_splits=5, shuffle=True, random_state=7)\n",
        "for fold, (train_indicies, valid_indicies) in enumerate(skf.split(X_train,y_train )):\n",
        "    df_train.loc[valid_indicies, \"kfold\"] = fold\n",
        "df_train.to_csv(\"training_data_skf_no_smote.csv\", index=False)\n",
        "\n"
      ],
      "metadata": {
        "id": "jVlubVtVZnOt"
      },
      "execution_count": null,
      "outputs": []
    },
    {
      "cell_type": "code",
      "source": [
        "print(f\"Value Counts for fold = 0: \\n{df_train[df_train.kfold == 0]['Revenue'].value_counts()}\\n\")\n",
        "print(\"-\"*50)\n",
        "print(f\"Value Counts for fold = 0: \\n{df_train[df_train.kfold == 1]['Revenue'].value_counts()}\\n\")\n",
        "print(\"-\"*50)\n",
        "print(f\"Value Counts for fold = 0: \\n{df_train[df_train.kfold == 2]['Revenue'].value_counts()}\\n\")\n",
        "print(\"-\"*50)\n",
        "print(f\"Value Counts for fold = 0: \\n{df_train[df_train.kfold == 3]['Revenue'].value_counts()}\\n\")\n",
        "print(\"-\"*50)\n",
        "print(f\"Value Counts for fold = 0: \\n{df_train[df_train.kfold == 4]['Revenue'].value_counts()}\\n\")\n",
        "print(\"-\"*50)"
      ],
      "metadata": {
        "colab": {
          "base_uri": "https://localhost:8080/"
        },
        "id": "ZN1bewo8zBTu",
        "outputId": "74cfe894-2b42-4f6f-fe07-e676e4a7c3e1"
      },
      "execution_count": null,
      "outputs": [
        {
          "output_type": "stream",
          "name": "stdout",
          "text": [
            "Value Counts for fold = 0: \n",
            "0    1668\n",
            "1     305\n",
            "Name: Revenue, dtype: int64\n",
            "\n",
            "--------------------------------------------------\n",
            "Value Counts for fold = 0: \n",
            "0    1668\n",
            "1     305\n",
            "Name: Revenue, dtype: int64\n",
            "\n",
            "--------------------------------------------------\n",
            "Value Counts for fold = 0: \n",
            "0    1668\n",
            "1     305\n",
            "Name: Revenue, dtype: int64\n",
            "\n",
            "--------------------------------------------------\n",
            "Value Counts for fold = 0: \n",
            "0    1667\n",
            "1     306\n",
            "Name: Revenue, dtype: int64\n",
            "\n",
            "--------------------------------------------------\n",
            "Value Counts for fold = 0: \n",
            "0    1667\n",
            "1     305\n",
            "Name: Revenue, dtype: int64\n",
            "\n",
            "--------------------------------------------------\n"
          ]
        }
      ]
    },
    {
      "cell_type": "code",
      "source": [
        ""
      ],
      "metadata": {
        "id": "2wpm55Wqzyfx"
      },
      "execution_count": null,
      "outputs": []
    }
  ]
}